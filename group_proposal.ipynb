{
 "cells": [
  {
   "cell_type": "code",
   "execution_count": 86,
   "id": "eb0c64e7-0f44-47d8-af0a-e537ffe2ddcc",
   "metadata": {},
   "outputs": [],
   "source": [
    "# Load required packages\n",
    "library(plyr)\n",
    "library(tidyverse)\n",
    "library(infer)\n",
    "library(janitor)\n",
    "library(repr)\n",
    "library(stringr)\n",
    "library(waffle)\n",
    "library(ggthemes)"
   ]
  },
  {
   "cell_type": "code",
   "execution_count": 87,
   "id": "2f2737a0-79e4-4ebc-baf7-4aa64cbb3e1b",
   "metadata": {},
   "outputs": [
    {
     "data": {
      "text/html": [
       "<table class=\"dataframe\">\n",
       "<caption>A data.frame: 6 × 4</caption>\n",
       "<thead>\n",
       "\t<tr><th></th><th scope=col>Year</th><th scope=col>Major</th><th scope=col>Gender</th><th scope=col>Admission</th></tr>\n",
       "\t<tr><th></th><th scope=col>&lt;int&gt;</th><th scope=col>&lt;chr&gt;</th><th scope=col>&lt;chr&gt;</th><th scope=col>&lt;chr&gt;</th></tr>\n",
       "</thead>\n",
       "<tbody>\n",
       "\t<tr><th scope=row>1</th><td>1973</td><td>C    </td><td>F</td><td>Rejected</td></tr>\n",
       "\t<tr><th scope=row>2</th><td>1973</td><td>B    </td><td>M</td><td>Accepted</td></tr>\n",
       "\t<tr><th scope=row>3</th><td>1973</td><td>Other</td><td>F</td><td>Accepted</td></tr>\n",
       "\t<tr><th scope=row>4</th><td>1973</td><td>Other</td><td>M</td><td>Accepted</td></tr>\n",
       "\t<tr><th scope=row>5</th><td>1973</td><td>Other</td><td>M</td><td>Rejected</td></tr>\n",
       "\t<tr><th scope=row>6</th><td>1973</td><td>Other</td><td>M</td><td>Rejected</td></tr>\n",
       "</tbody>\n",
       "</table>\n"
      ],
      "text/latex": [
       "A data.frame: 6 × 4\n",
       "\\begin{tabular}{r|llll}\n",
       "  & Year & Major & Gender & Admission\\\\\n",
       "  & <int> & <chr> & <chr> & <chr>\\\\\n",
       "\\hline\n",
       "\t1 & 1973 & C     & F & Rejected\\\\\n",
       "\t2 & 1973 & B     & M & Accepted\\\\\n",
       "\t3 & 1973 & Other & F & Accepted\\\\\n",
       "\t4 & 1973 & Other & M & Accepted\\\\\n",
       "\t5 & 1973 & Other & M & Rejected\\\\\n",
       "\t6 & 1973 & Other & M & Rejected\\\\\n",
       "\\end{tabular}\n"
      ],
      "text/markdown": [
       "\n",
       "A data.frame: 6 × 4\n",
       "\n",
       "| <!--/--> | Year &lt;int&gt; | Major &lt;chr&gt; | Gender &lt;chr&gt; | Admission &lt;chr&gt; |\n",
       "|---|---|---|---|---|\n",
       "| 1 | 1973 | C     | F | Rejected |\n",
       "| 2 | 1973 | B     | M | Accepted |\n",
       "| 3 | 1973 | Other | F | Accepted |\n",
       "| 4 | 1973 | Other | M | Accepted |\n",
       "| 5 | 1973 | Other | M | Rejected |\n",
       "| 6 | 1973 | Other | M | Rejected |\n",
       "\n"
      ],
      "text/plain": [
       "  Year Major Gender Admission\n",
       "1 1973 C     F      Rejected \n",
       "2 1973 B     M      Accepted \n",
       "3 1973 Other F      Accepted \n",
       "4 1973 Other M      Accepted \n",
       "5 1973 Other M      Rejected \n",
       "6 1973 Other M      Rejected "
      ]
     },
     "metadata": {},
     "output_type": "display_data"
    }
   ],
   "source": [
    "# Reading the dataset\n",
    "url <- \"https://raw.githubusercontent.com/kashish1928/STAT201_Group_03/main/data/berkeley.csv\"\n",
    "admission_data <- read.csv(url)\n",
    "\n",
    "head(admission_data)"
   ]
  },
  {
   "cell_type": "code",
   "execution_count": 88,
   "id": "4296776c-09c6-4600-b46d-456110db0050",
   "metadata": {},
   "outputs": [
    {
     "data": {
      "text/html": [
       "<table class=\"dataframe\">\n",
       "<caption>A data.frame: 6 × 4</caption>\n",
       "<thead>\n",
       "\t<tr><th></th><th scope=col>year</th><th scope=col>major</th><th scope=col>gender</th><th scope=col>admission</th></tr>\n",
       "\t<tr><th></th><th scope=col>&lt;int&gt;</th><th scope=col>&lt;chr&gt;</th><th scope=col>&lt;chr&gt;</th><th scope=col>&lt;chr&gt;</th></tr>\n",
       "</thead>\n",
       "<tbody>\n",
       "\t<tr><th scope=row>1</th><td>1973</td><td>C    </td><td>F</td><td>Rejected</td></tr>\n",
       "\t<tr><th scope=row>2</th><td>1973</td><td>B    </td><td>M</td><td>Accepted</td></tr>\n",
       "\t<tr><th scope=row>3</th><td>1973</td><td>Other</td><td>F</td><td>Accepted</td></tr>\n",
       "\t<tr><th scope=row>4</th><td>1973</td><td>Other</td><td>M</td><td>Accepted</td></tr>\n",
       "\t<tr><th scope=row>5</th><td>1973</td><td>Other</td><td>M</td><td>Rejected</td></tr>\n",
       "\t<tr><th scope=row>6</th><td>1973</td><td>Other</td><td>M</td><td>Rejected</td></tr>\n",
       "</tbody>\n",
       "</table>\n"
      ],
      "text/latex": [
       "A data.frame: 6 × 4\n",
       "\\begin{tabular}{r|llll}\n",
       "  & year & major & gender & admission\\\\\n",
       "  & <int> & <chr> & <chr> & <chr>\\\\\n",
       "\\hline\n",
       "\t1 & 1973 & C     & F & Rejected\\\\\n",
       "\t2 & 1973 & B     & M & Accepted\\\\\n",
       "\t3 & 1973 & Other & F & Accepted\\\\\n",
       "\t4 & 1973 & Other & M & Accepted\\\\\n",
       "\t5 & 1973 & Other & M & Rejected\\\\\n",
       "\t6 & 1973 & Other & M & Rejected\\\\\n",
       "\\end{tabular}\n"
      ],
      "text/markdown": [
       "\n",
       "A data.frame: 6 × 4\n",
       "\n",
       "| <!--/--> | year &lt;int&gt; | major &lt;chr&gt; | gender &lt;chr&gt; | admission &lt;chr&gt; |\n",
       "|---|---|---|---|---|\n",
       "| 1 | 1973 | C     | F | Rejected |\n",
       "| 2 | 1973 | B     | M | Accepted |\n",
       "| 3 | 1973 | Other | F | Accepted |\n",
       "| 4 | 1973 | Other | M | Accepted |\n",
       "| 5 | 1973 | Other | M | Rejected |\n",
       "| 6 | 1973 | Other | M | Rejected |\n",
       "\n"
      ],
      "text/plain": [
       "  year major gender admission\n",
       "1 1973 C     F      Rejected \n",
       "2 1973 B     M      Accepted \n",
       "3 1973 Other F      Accepted \n",
       "4 1973 Other M      Accepted \n",
       "5 1973 Other M      Rejected \n",
       "6 1973 Other M      Rejected "
      ]
     },
     "metadata": {},
     "output_type": "display_data"
    }
   ],
   "source": [
    "new_col_names <- c(\"year\", \"major\", \"gender\", \"admission\")\n",
    "admission_data <- rename(admission_data, !!!setNames(names(admission_data), new_col_names))\n",
    "\n",
    "head(admission_data)"
   ]
  },
  {
   "cell_type": "code",
   "execution_count": 89,
   "id": "c812fec2-8223-4f7f-8010-200242d7bc65",
   "metadata": {},
   "outputs": [
    {
     "name": "stdout",
     "output_type": "stream",
     "text": [
      "[1] \"There are 12763 rows in the data frame\"\n",
      "[1] \"There are 4 columns in the data frame\"\n"
     ]
    }
   ],
   "source": [
    "# Number of Rows and Columns\n",
    "\n",
    "total_rows <- admission_data |> nrow()\n",
    "print(sprintf(\"There are %d rows in the data frame\", total_rows))\n",
    "\n",
    "total_cols <- admission_data |> ncol()\n",
    "print(sprintf(\"There are %d columns in the data frame\", total_cols))"
   ]
  },
  {
   "cell_type": "code",
   "execution_count": 90,
   "id": "14c86e14-3aa2-4a21-b110-6bb4ca6818fc",
   "metadata": {},
   "outputs": [
    {
     "name": "stdout",
     "output_type": "stream",
     "text": [
      "'data.frame':\t12763 obs. of  4 variables:\n",
      " $ year     : int  1973 1973 1973 1973 1973 1973 1973 1973 1973 1973 ...\n",
      " $ major    : chr  \"C\" \"B\" \"Other\" \"Other\" ...\n",
      " $ gender   : chr  \"F\" \"M\" \"F\" \"M\" ...\n",
      " $ admission: chr  \"Rejected\" \"Accepted\" \"Accepted\" \"Accepted\" ...\n"
     ]
    }
   ],
   "source": [
    "str(admission_data)"
   ]
  },
  {
   "cell_type": "code",
   "execution_count": 91,
   "id": "552eed4f-beae-4319-85cc-9cc2800f42a4",
   "metadata": {},
   "outputs": [
    {
     "data": {
      "text/html": [
       "<table class=\"dataframe\">\n",
       "<caption>A data.frame: 6 × 4</caption>\n",
       "<thead>\n",
       "\t<tr><th></th><th scope=col>year</th><th scope=col>major</th><th scope=col>gender</th><th scope=col>admission</th></tr>\n",
       "\t<tr><th></th><th scope=col>&lt;int&gt;</th><th scope=col>&lt;chr&gt;</th><th scope=col>&lt;chr&gt;</th><th scope=col>&lt;chr&gt;</th></tr>\n",
       "</thead>\n",
       "<tbody>\n",
       "\t<tr><th scope=row>1</th><td>1973</td><td>C    </td><td>F</td><td>Rejected</td></tr>\n",
       "\t<tr><th scope=row>2</th><td>1973</td><td>B    </td><td>M</td><td>Accepted</td></tr>\n",
       "\t<tr><th scope=row>3</th><td>1973</td><td>Other</td><td>F</td><td>Accepted</td></tr>\n",
       "\t<tr><th scope=row>4</th><td>1973</td><td>Other</td><td>M</td><td>Accepted</td></tr>\n",
       "\t<tr><th scope=row>5</th><td>1973</td><td>Other</td><td>M</td><td>Rejected</td></tr>\n",
       "\t<tr><th scope=row>6</th><td>1973</td><td>Other</td><td>M</td><td>Rejected</td></tr>\n",
       "</tbody>\n",
       "</table>\n"
      ],
      "text/latex": [
       "A data.frame: 6 × 4\n",
       "\\begin{tabular}{r|llll}\n",
       "  & year & major & gender & admission\\\\\n",
       "  & <int> & <chr> & <chr> & <chr>\\\\\n",
       "\\hline\n",
       "\t1 & 1973 & C     & F & Rejected\\\\\n",
       "\t2 & 1973 & B     & M & Accepted\\\\\n",
       "\t3 & 1973 & Other & F & Accepted\\\\\n",
       "\t4 & 1973 & Other & M & Accepted\\\\\n",
       "\t5 & 1973 & Other & M & Rejected\\\\\n",
       "\t6 & 1973 & Other & M & Rejected\\\\\n",
       "\\end{tabular}\n"
      ],
      "text/markdown": [
       "\n",
       "A data.frame: 6 × 4\n",
       "\n",
       "| <!--/--> | year &lt;int&gt; | major &lt;chr&gt; | gender &lt;chr&gt; | admission &lt;chr&gt; |\n",
       "|---|---|---|---|---|\n",
       "| 1 | 1973 | C     | F | Rejected |\n",
       "| 2 | 1973 | B     | M | Accepted |\n",
       "| 3 | 1973 | Other | F | Accepted |\n",
       "| 4 | 1973 | Other | M | Accepted |\n",
       "| 5 | 1973 | Other | M | Rejected |\n",
       "| 6 | 1973 | Other | M | Rejected |\n",
       "\n"
      ],
      "text/plain": [
       "  year major gender admission\n",
       "1 1973 C     F      Rejected \n",
       "2 1973 B     M      Accepted \n",
       "3 1973 Other F      Accepted \n",
       "4 1973 Other M      Accepted \n",
       "5 1973 Other M      Rejected \n",
       "6 1973 Other M      Rejected "
      ]
     },
     "metadata": {},
     "output_type": "display_data"
    }
   ],
   "source": [
    "# Remove NA values (if any)\n",
    "\n",
    "admission_data_function <- function(cols) {\n",
    "  for (i in cols) {\n",
    "    admission_data <- admission_data |>\n",
    "          filter(!is.na(i))\n",
    "  }\n",
    "  return(admission_data)\n",
    "}\n",
    "\n",
    "column_names <- colnames(admission_data)\n",
    "\n",
    "admission_data <- admission_data_function(column_names)\n",
    "\n",
    "head(admission_data)"
   ]
  },
  {
   "cell_type": "code",
   "execution_count": 92,
   "id": "59f002c6-d2ca-4c8c-853e-6ec98943d037",
   "metadata": {},
   "outputs": [
    {
     "name": "stdout",
     "output_type": "stream",
     "text": [
      "[1] 1973\n",
      "[1] \"C\"     \"B\"     \"Other\" \"F\"     \"A\"     \"D\"     \"E\"    \n",
      "[1] \"F\" \"M\"\n",
      "[1] \"Rejected\" \"Accepted\"\n"
     ]
    }
   ],
   "source": [
    "# Display all the different levels\n",
    "\n",
    "print(unique(admission_data$year))\n",
    "print(unique(admission_data$major))\n",
    "print(unique(admission_data$gender))\n",
    "print(unique(admission_data$admission))"
   ]
  },
  {
   "cell_type": "code",
   "execution_count": 93,
   "id": "3f869520-f173-4b7e-b730-48f49f8cae32",
   "metadata": {},
   "outputs": [
    {
     "data": {
      "text/html": [
       "<table class=\"dataframe\">\n",
       "<caption>A data.frame: 6 × 3</caption>\n",
       "<thead>\n",
       "\t<tr><th></th><th scope=col>major</th><th scope=col>gender</th><th scope=col>admission</th></tr>\n",
       "\t<tr><th></th><th scope=col>&lt;chr&gt;</th><th scope=col>&lt;chr&gt;</th><th scope=col>&lt;chr&gt;</th></tr>\n",
       "</thead>\n",
       "<tbody>\n",
       "\t<tr><th scope=row>1</th><td>C    </td><td>F</td><td>Rejected</td></tr>\n",
       "\t<tr><th scope=row>2</th><td>B    </td><td>M</td><td>Accepted</td></tr>\n",
       "\t<tr><th scope=row>3</th><td>Other</td><td>F</td><td>Accepted</td></tr>\n",
       "\t<tr><th scope=row>4</th><td>Other</td><td>M</td><td>Accepted</td></tr>\n",
       "\t<tr><th scope=row>5</th><td>Other</td><td>M</td><td>Rejected</td></tr>\n",
       "\t<tr><th scope=row>6</th><td>Other</td><td>M</td><td>Rejected</td></tr>\n",
       "</tbody>\n",
       "</table>\n"
      ],
      "text/latex": [
       "A data.frame: 6 × 3\n",
       "\\begin{tabular}{r|lll}\n",
       "  & major & gender & admission\\\\\n",
       "  & <chr> & <chr> & <chr>\\\\\n",
       "\\hline\n",
       "\t1 & C     & F & Rejected\\\\\n",
       "\t2 & B     & M & Accepted\\\\\n",
       "\t3 & Other & F & Accepted\\\\\n",
       "\t4 & Other & M & Accepted\\\\\n",
       "\t5 & Other & M & Rejected\\\\\n",
       "\t6 & Other & M & Rejected\\\\\n",
       "\\end{tabular}\n"
      ],
      "text/markdown": [
       "\n",
       "A data.frame: 6 × 3\n",
       "\n",
       "| <!--/--> | major &lt;chr&gt; | gender &lt;chr&gt; | admission &lt;chr&gt; |\n",
       "|---|---|---|---|\n",
       "| 1 | C     | F | Rejected |\n",
       "| 2 | B     | M | Accepted |\n",
       "| 3 | Other | F | Accepted |\n",
       "| 4 | Other | M | Accepted |\n",
       "| 5 | Other | M | Rejected |\n",
       "| 6 | Other | M | Rejected |\n",
       "\n"
      ],
      "text/plain": [
       "  major gender admission\n",
       "1 C     F      Rejected \n",
       "2 B     M      Accepted \n",
       "3 Other F      Accepted \n",
       "4 Other M      Accepted \n",
       "5 Other M      Rejected \n",
       "6 Other M      Rejected "
      ]
     },
     "metadata": {},
     "output_type": "display_data"
    }
   ],
   "source": [
    "# Remove unnecessary columns\n",
    "\n",
    "admission_data_updated <- admission_data[, -1]\n",
    "head(admission_data_updated)"
   ]
  },
  {
   "cell_type": "code",
   "execution_count": null,
   "id": "3a67e24e-98af-4836-b147-6930c416d9b9",
   "metadata": {},
   "outputs": [],
   "source": []
  }
 ],
 "metadata": {
  "kernelspec": {
   "display_name": "R",
   "language": "R",
   "name": "ir"
  },
  "language_info": {
   "codemirror_mode": "r",
   "file_extension": ".r",
   "mimetype": "text/x-r-source",
   "name": "R",
   "pygments_lexer": "r",
   "version": "4.1.3"
  }
 },
 "nbformat": 4,
 "nbformat_minor": 5
}

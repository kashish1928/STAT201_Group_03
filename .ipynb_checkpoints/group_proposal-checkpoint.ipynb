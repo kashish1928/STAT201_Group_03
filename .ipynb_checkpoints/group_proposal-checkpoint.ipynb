{
 "cells": [
  {
   "cell_type": "code",
   "execution_count": 5,
   "id": "eb0c64e7-0f44-47d8-af0a-e537ffe2ddcc",
   "metadata": {},
   "outputs": [
    {
     "ename": "ERROR",
     "evalue": "Error in library(janitor): there is no package called ‘janitor’\n",
     "output_type": "error",
     "traceback": [
      "Error in library(janitor): there is no package called ‘janitor’\nTraceback:\n",
      "1. library(janitor)"
     ]
    }
   ],
   "source": [
    "# Load required packages\n",
    "library(plyr)\n",
    "library(tidyverse)\n",
    "library(infer)\n",
    "library(janitor)\n",
    "library(repr)\n",
    "library(stringr)\n",
    "library(waffle)\n",
    "library(ggthemes)"
   ]
  },
  {
   "cell_type": "code",
   "execution_count": 6,
   "id": "2f2737a0-79e4-4ebc-baf7-4aa64cbb3e1b",
   "metadata": {},
   "outputs": [
    {
     "data": {
      "text/html": [
       "<table class=\"dataframe\">\n",
       "<caption>A data.frame: 6 × 4</caption>\n",
       "<thead>\n",
       "\t<tr><th></th><th scope=col>Year</th><th scope=col>Major</th><th scope=col>Gender</th><th scope=col>Admission</th></tr>\n",
       "\t<tr><th></th><th scope=col>&lt;int&gt;</th><th scope=col>&lt;chr&gt;</th><th scope=col>&lt;chr&gt;</th><th scope=col>&lt;chr&gt;</th></tr>\n",
       "</thead>\n",
       "<tbody>\n",
       "\t<tr><th scope=row>1</th><td>1973</td><td>C    </td><td>F</td><td>Rejected</td></tr>\n",
       "\t<tr><th scope=row>2</th><td>1973</td><td>B    </td><td>M</td><td>Accepted</td></tr>\n",
       "\t<tr><th scope=row>3</th><td>1973</td><td>Other</td><td>F</td><td>Accepted</td></tr>\n",
       "\t<tr><th scope=row>4</th><td>1973</td><td>Other</td><td>M</td><td>Accepted</td></tr>\n",
       "\t<tr><th scope=row>5</th><td>1973</td><td>Other</td><td>M</td><td>Rejected</td></tr>\n",
       "\t<tr><th scope=row>6</th><td>1973</td><td>Other</td><td>M</td><td>Rejected</td></tr>\n",
       "</tbody>\n",
       "</table>\n"
      ],
      "text/latex": [
       "A data.frame: 6 × 4\n",
       "\\begin{tabular}{r|llll}\n",
       "  & Year & Major & Gender & Admission\\\\\n",
       "  & <int> & <chr> & <chr> & <chr>\\\\\n",
       "\\hline\n",
       "\t1 & 1973 & C     & F & Rejected\\\\\n",
       "\t2 & 1973 & B     & M & Accepted\\\\\n",
       "\t3 & 1973 & Other & F & Accepted\\\\\n",
       "\t4 & 1973 & Other & M & Accepted\\\\\n",
       "\t5 & 1973 & Other & M & Rejected\\\\\n",
       "\t6 & 1973 & Other & M & Rejected\\\\\n",
       "\\end{tabular}\n"
      ],
      "text/markdown": [
       "\n",
       "A data.frame: 6 × 4\n",
       "\n",
       "| <!--/--> | Year &lt;int&gt; | Major &lt;chr&gt; | Gender &lt;chr&gt; | Admission &lt;chr&gt; |\n",
       "|---|---|---|---|---|\n",
       "| 1 | 1973 | C     | F | Rejected |\n",
       "| 2 | 1973 | B     | M | Accepted |\n",
       "| 3 | 1973 | Other | F | Accepted |\n",
       "| 4 | 1973 | Other | M | Accepted |\n",
       "| 5 | 1973 | Other | M | Rejected |\n",
       "| 6 | 1973 | Other | M | Rejected |\n",
       "\n"
      ],
      "text/plain": [
       "  Year Major Gender Admission\n",
       "1 1973 C     F      Rejected \n",
       "2 1973 B     M      Accepted \n",
       "3 1973 Other F      Accepted \n",
       "4 1973 Other M      Accepted \n",
       "5 1973 Other M      Rejected \n",
       "6 1973 Other M      Rejected "
      ]
     },
     "metadata": {},
     "output_type": "display_data"
    }
   ],
   "source": [
    "# Reading the dataset\n",
    "url <- \"https://raw.githubusercontent.com/kashish1928/STAT201_Group_03/main/data/berkeley.csv\"\n",
    "admission_data <- read.csv(url)\n",
    "\n",
    "head(admission_data)"
   ]
  },
  {
   "cell_type": "code",
   "execution_count": 7,
   "id": "4296776c-09c6-4600-b46d-456110db0050",
   "metadata": {},
   "outputs": [
    {
     "data": {
      "text/html": [
       "<table class=\"dataframe\">\n",
       "<caption>A data.frame: 6 × 4</caption>\n",
       "<thead>\n",
       "\t<tr><th></th><th scope=col>year</th><th scope=col>major</th><th scope=col>gender</th><th scope=col>admission</th></tr>\n",
       "\t<tr><th></th><th scope=col>&lt;int&gt;</th><th scope=col>&lt;chr&gt;</th><th scope=col>&lt;chr&gt;</th><th scope=col>&lt;chr&gt;</th></tr>\n",
       "</thead>\n",
       "<tbody>\n",
       "\t<tr><th scope=row>1</th><td>1973</td><td>C    </td><td>F</td><td>Rejected</td></tr>\n",
       "\t<tr><th scope=row>2</th><td>1973</td><td>B    </td><td>M</td><td>Accepted</td></tr>\n",
       "\t<tr><th scope=row>3</th><td>1973</td><td>Other</td><td>F</td><td>Accepted</td></tr>\n",
       "\t<tr><th scope=row>4</th><td>1973</td><td>Other</td><td>M</td><td>Accepted</td></tr>\n",
       "\t<tr><th scope=row>5</th><td>1973</td><td>Other</td><td>M</td><td>Rejected</td></tr>\n",
       "\t<tr><th scope=row>6</th><td>1973</td><td>Other</td><td>M</td><td>Rejected</td></tr>\n",
       "</tbody>\n",
       "</table>\n"
      ],
      "text/latex": [
       "A data.frame: 6 × 4\n",
       "\\begin{tabular}{r|llll}\n",
       "  & year & major & gender & admission\\\\\n",
       "  & <int> & <chr> & <chr> & <chr>\\\\\n",
       "\\hline\n",
       "\t1 & 1973 & C     & F & Rejected\\\\\n",
       "\t2 & 1973 & B     & M & Accepted\\\\\n",
       "\t3 & 1973 & Other & F & Accepted\\\\\n",
       "\t4 & 1973 & Other & M & Accepted\\\\\n",
       "\t5 & 1973 & Other & M & Rejected\\\\\n",
       "\t6 & 1973 & Other & M & Rejected\\\\\n",
       "\\end{tabular}\n"
      ],
      "text/markdown": [
       "\n",
       "A data.frame: 6 × 4\n",
       "\n",
       "| <!--/--> | year &lt;int&gt; | major &lt;chr&gt; | gender &lt;chr&gt; | admission &lt;chr&gt; |\n",
       "|---|---|---|---|---|\n",
       "| 1 | 1973 | C     | F | Rejected |\n",
       "| 2 | 1973 | B     | M | Accepted |\n",
       "| 3 | 1973 | Other | F | Accepted |\n",
       "| 4 | 1973 | Other | M | Accepted |\n",
       "| 5 | 1973 | Other | M | Rejected |\n",
       "| 6 | 1973 | Other | M | Rejected |\n",
       "\n"
      ],
      "text/plain": [
       "  year major gender admission\n",
       "1 1973 C     F      Rejected \n",
       "2 1973 B     M      Accepted \n",
       "3 1973 Other F      Accepted \n",
       "4 1973 Other M      Accepted \n",
       "5 1973 Other M      Rejected \n",
       "6 1973 Other M      Rejected "
      ]
     },
     "metadata": {},
     "output_type": "display_data"
    }
   ],
   "source": [
    "new_col_names <- c(\"year\", \"major\", \"gender\", \"admission\")\n",
    "admission_data <- rename(admission_data, !!!setNames(names(admission_data), new_col_names))\n",
    "\n",
    "head(admission_data)"
   ]
  },
  {
   "cell_type": "code",
   "execution_count": 8,
   "id": "c812fec2-8223-4f7f-8010-200242d7bc65",
   "metadata": {},
   "outputs": [
    {
     "name": "stdout",
     "output_type": "stream",
     "text": [
      "[1] \"There are 12763 rows in the data frame\"\n",
      "[1] \"There are 4 columns in the data frame\"\n"
     ]
    }
   ],
   "source": [
    "# Number of Rows and Columns\n",
    "\n",
    "total_rows <- admission_data |> nrow()\n",
    "print(sprintf(\"There are %d rows in the data frame\", total_rows))\n",
    "\n",
    "total_cols <- admission_data |> ncol()\n",
    "print(sprintf(\"There are %d columns in the data frame\", total_cols))"
   ]
  },
  {
   "cell_type": "code",
   "execution_count": 9,
   "id": "14c86e14-3aa2-4a21-b110-6bb4ca6818fc",
   "metadata": {},
   "outputs": [
    {
     "name": "stdout",
     "output_type": "stream",
     "text": [
      "'data.frame':\t12763 obs. of  4 variables:\n",
      " $ year     : int  1973 1973 1973 1973 1973 1973 1973 1973 1973 1973 ...\n",
      " $ major    : chr  \"C\" \"B\" \"Other\" \"Other\" ...\n",
      " $ gender   : chr  \"F\" \"M\" \"F\" \"M\" ...\n",
      " $ admission: chr  \"Rejected\" \"Accepted\" \"Accepted\" \"Accepted\" ...\n"
     ]
    }
   ],
   "source": [
    "str(admission_data)"
   ]
  },
  {
   "cell_type": "code",
   "execution_count": 10,
   "id": "552eed4f-beae-4319-85cc-9cc2800f42a4",
   "metadata": {},
   "outputs": [
    {
     "data": {
      "text/html": [
       "<table class=\"dataframe\">\n",
       "<caption>A data.frame: 6 × 4</caption>\n",
       "<thead>\n",
       "\t<tr><th></th><th scope=col>year</th><th scope=col>major</th><th scope=col>gender</th><th scope=col>admission</th></tr>\n",
       "\t<tr><th></th><th scope=col>&lt;int&gt;</th><th scope=col>&lt;chr&gt;</th><th scope=col>&lt;chr&gt;</th><th scope=col>&lt;chr&gt;</th></tr>\n",
       "</thead>\n",
       "<tbody>\n",
       "\t<tr><th scope=row>1</th><td>1973</td><td>C    </td><td>F</td><td>Rejected</td></tr>\n",
       "\t<tr><th scope=row>2</th><td>1973</td><td>B    </td><td>M</td><td>Accepted</td></tr>\n",
       "\t<tr><th scope=row>3</th><td>1973</td><td>Other</td><td>F</td><td>Accepted</td></tr>\n",
       "\t<tr><th scope=row>4</th><td>1973</td><td>Other</td><td>M</td><td>Accepted</td></tr>\n",
       "\t<tr><th scope=row>5</th><td>1973</td><td>Other</td><td>M</td><td>Rejected</td></tr>\n",
       "\t<tr><th scope=row>6</th><td>1973</td><td>Other</td><td>M</td><td>Rejected</td></tr>\n",
       "</tbody>\n",
       "</table>\n"
      ],
      "text/latex": [
       "A data.frame: 6 × 4\n",
       "\\begin{tabular}{r|llll}\n",
       "  & year & major & gender & admission\\\\\n",
       "  & <int> & <chr> & <chr> & <chr>\\\\\n",
       "\\hline\n",
       "\t1 & 1973 & C     & F & Rejected\\\\\n",
       "\t2 & 1973 & B     & M & Accepted\\\\\n",
       "\t3 & 1973 & Other & F & Accepted\\\\\n",
       "\t4 & 1973 & Other & M & Accepted\\\\\n",
       "\t5 & 1973 & Other & M & Rejected\\\\\n",
       "\t6 & 1973 & Other & M & Rejected\\\\\n",
       "\\end{tabular}\n"
      ],
      "text/markdown": [
       "\n",
       "A data.frame: 6 × 4\n",
       "\n",
       "| <!--/--> | year &lt;int&gt; | major &lt;chr&gt; | gender &lt;chr&gt; | admission &lt;chr&gt; |\n",
       "|---|---|---|---|---|\n",
       "| 1 | 1973 | C     | F | Rejected |\n",
       "| 2 | 1973 | B     | M | Accepted |\n",
       "| 3 | 1973 | Other | F | Accepted |\n",
       "| 4 | 1973 | Other | M | Accepted |\n",
       "| 5 | 1973 | Other | M | Rejected |\n",
       "| 6 | 1973 | Other | M | Rejected |\n",
       "\n"
      ],
      "text/plain": [
       "  year major gender admission\n",
       "1 1973 C     F      Rejected \n",
       "2 1973 B     M      Accepted \n",
       "3 1973 Other F      Accepted \n",
       "4 1973 Other M      Accepted \n",
       "5 1973 Other M      Rejected \n",
       "6 1973 Other M      Rejected "
      ]
     },
     "metadata": {},
     "output_type": "display_data"
    }
   ],
   "source": [
    "# Remove NA values (if any)\n",
    "\n",
    "admission_data_function <- function(cols) {\n",
    "  for (i in cols) {\n",
    "    admission_data <- admission_data |>\n",
    "          filter(!is.na(i))\n",
    "  }\n",
    "  return(admission_data)\n",
    "}\n",
    "\n",
    "column_names <- colnames(admission_data)\n",
    "\n",
    "admission_data <- admission_data_function(column_names)\n",
    "\n",
    "head(admission_data)"
   ]
  },
  {
   "cell_type": "code",
   "execution_count": 11,
   "id": "59f002c6-d2ca-4c8c-853e-6ec98943d037",
   "metadata": {},
   "outputs": [
    {
     "name": "stdout",
     "output_type": "stream",
     "text": [
      "[1] 1973\n",
      "[1] \"C\"     \"B\"     \"Other\" \"F\"     \"A\"     \"D\"     \"E\"    \n",
      "[1] \"F\" \"M\"\n",
      "[1] \"Rejected\" \"Accepted\"\n"
     ]
    }
   ],
   "source": [
    "# Display all the different levels\n",
    "\n",
    "print(unique(admission_data$year))\n",
    "print(unique(admission_data$major))\n",
    "print(unique(admission_data$gender))\n",
    "print(unique(admission_data$admission))"
   ]
  },
  {
   "cell_type": "code",
   "execution_count": 12,
   "id": "3f869520-f173-4b7e-b730-48f49f8cae32",
   "metadata": {},
   "outputs": [
    {
     "data": {
      "text/html": [
       "<table class=\"dataframe\">\n",
       "<caption>A data.frame: 6 × 2</caption>\n",
       "<thead>\n",
       "\t<tr><th></th><th scope=col>gender</th><th scope=col>admission</th></tr>\n",
       "\t<tr><th></th><th scope=col>&lt;chr&gt;</th><th scope=col>&lt;chr&gt;</th></tr>\n",
       "</thead>\n",
       "<tbody>\n",
       "\t<tr><th scope=row>1</th><td>F</td><td>Rejected</td></tr>\n",
       "\t<tr><th scope=row>2</th><td>M</td><td>Accepted</td></tr>\n",
       "\t<tr><th scope=row>3</th><td>F</td><td>Accepted</td></tr>\n",
       "\t<tr><th scope=row>4</th><td>M</td><td>Accepted</td></tr>\n",
       "\t<tr><th scope=row>5</th><td>M</td><td>Rejected</td></tr>\n",
       "\t<tr><th scope=row>6</th><td>M</td><td>Rejected</td></tr>\n",
       "</tbody>\n",
       "</table>\n"
      ],
      "text/latex": [
       "A data.frame: 6 × 2\n",
       "\\begin{tabular}{r|ll}\n",
       "  & gender & admission\\\\\n",
       "  & <chr> & <chr>\\\\\n",
       "\\hline\n",
       "\t1 & F & Rejected\\\\\n",
       "\t2 & M & Accepted\\\\\n",
       "\t3 & F & Accepted\\\\\n",
       "\t4 & M & Accepted\\\\\n",
       "\t5 & M & Rejected\\\\\n",
       "\t6 & M & Rejected\\\\\n",
       "\\end{tabular}\n"
      ],
      "text/markdown": [
       "\n",
       "A data.frame: 6 × 2\n",
       "\n",
       "| <!--/--> | gender &lt;chr&gt; | admission &lt;chr&gt; |\n",
       "|---|---|---|\n",
       "| 1 | F | Rejected |\n",
       "| 2 | M | Accepted |\n",
       "| 3 | F | Accepted |\n",
       "| 4 | M | Accepted |\n",
       "| 5 | M | Rejected |\n",
       "| 6 | M | Rejected |\n",
       "\n"
      ],
      "text/plain": [
       "  gender admission\n",
       "1 F      Rejected \n",
       "2 M      Accepted \n",
       "3 F      Accepted \n",
       "4 M      Accepted \n",
       "5 M      Rejected \n",
       "6 M      Rejected "
      ]
     },
     "metadata": {},
     "output_type": "display_data"
    }
   ],
   "source": [
    "# Remove unnecessary columns\n",
    "\n",
    "admission_data_updated <- admission_data[, -c(1,2)]\n",
    "head(admission_data_updated)"
   ]
  },
  {
   "cell_type": "code",
   "execution_count": 17,
   "id": "8bd97670-955d-4c7c-9c73-546640ce7cc4",
   "metadata": {},
   "outputs": [
    {
     "data": {
      "application/pdf": "[encoded data removed]",
      "image/jpeg": "[encoded data removed]",
      "image/png": "[encoded data removed]",
      "image/svg+xml": [
       "<?xml version=\"1.0\" encoding=\"UTF-8\"?>\n",
       "<svg xmlns=\"http://www.w3.org/2000/svg\" xmlns:xlink=\"http://www.w3.org/1999/xlink\" width=\"504pt\" height=\"504pt\" viewBox=\"0 0 504 504\" version=\"1.1\">\n",
       "<defs>\n",
       "<g>\n",
       "<symbol overflow=\"visible\" id=\"glyph0-0\">\n",
       "<path style=\"stroke:none;\" d=\"M 0.296875 0 L 0.296875 -5.859375 L 2.625 -5.859375 L 2.625 0 Z M 0.578125 -0.296875 L 2.34375 -0.296875 L 2.34375 -5.578125 L 0.578125 -5.578125 Z M 0.578125 -0.296875 \"/>\n",
       "</symbol>\n",
       "<symbol overflow=\"visible\" id=\"glyph0-1\">\n",
       "<path style=\"stroke:none;\" d=\"M 4.546875 -3.03125 C 4.546875 -2.445312 4.488281 -1.957031 4.375 -1.5625 C 4.269531 -1.164062 4.117188 -0.84375 3.921875 -0.59375 C 3.734375 -0.351562 3.507812 -0.179688 3.25 -0.078125 C 3 0.0234375 2.726562 0.078125 2.4375 0.078125 C 2.144531 0.078125 1.867188 0.0234375 1.609375 -0.078125 C 1.359375 -0.179688 1.140625 -0.351562 0.953125 -0.59375 C 0.765625 -0.84375 0.613281 -1.164062 0.5 -1.5625 C 0.394531 -1.957031 0.34375 -2.445312 0.34375 -3.03125 C 0.34375 -3.632812 0.394531 -4.132812 0.5 -4.53125 C 0.613281 -4.9375 0.765625 -5.257812 0.953125 -5.5 C 1.140625 -5.738281 1.359375 -5.90625 1.609375 -6 C 1.867188 -6.09375 2.15625 -6.140625 2.46875 -6.140625 C 2.75 -6.140625 3.015625 -6.09375 3.265625 -6 C 3.523438 -5.90625 3.75 -5.738281 3.9375 -5.5 C 4.125 -5.257812 4.269531 -4.9375 4.375 -4.53125 C 4.488281 -4.132812 4.546875 -3.632812 4.546875 -3.03125 Z M 3.765625 -3.03125 C 3.765625 -3.507812 3.734375 -3.90625 3.671875 -4.21875 C 3.617188 -4.539062 3.535156 -4.796875 3.421875 -4.984375 C 3.304688 -5.179688 3.164062 -5.316406 3 -5.390625 C 2.84375 -5.472656 2.664062 -5.515625 2.46875 -5.515625 C 2.25 -5.515625 2.054688 -5.472656 1.890625 -5.390625 C 1.722656 -5.316406 1.582031 -5.179688 1.46875 -4.984375 C 1.351562 -4.796875 1.265625 -4.539062 1.203125 -4.21875 C 1.148438 -3.90625 1.125 -3.507812 1.125 -3.03125 C 1.125 -2.5625 1.148438 -2.164062 1.203125 -1.84375 C 1.265625 -1.53125 1.351562 -1.273438 1.46875 -1.078125 C 1.582031 -0.890625 1.71875 -0.753906 1.875 -0.671875 C 2.039062 -0.585938 2.226562 -0.546875 2.4375 -0.546875 C 2.644531 -0.546875 2.828125 -0.585938 2.984375 -0.671875 C 3.148438 -0.753906 3.289062 -0.890625 3.40625 -1.078125 C 3.519531 -1.273438 3.609375 -1.53125 3.671875 -1.84375 C 3.734375 -2.164062 3.765625 -2.5625 3.765625 -3.03125 Z M 3.765625 -3.03125 \"/>\n",
       "</symbol>\n",
       "<symbol overflow=\"visible\" id=\"glyph0-2\">\n",
       "<path style=\"stroke:none;\" d=\"M 0.4375 0 L 0.4375 -0.546875 C 0.582031 -0.878906 0.757812 -1.171875 0.96875 -1.421875 C 1.1875 -1.679688 1.410156 -1.914062 1.640625 -2.125 C 1.867188 -2.332031 2.097656 -2.523438 2.328125 -2.703125 C 2.554688 -2.878906 2.757812 -3.054688 2.9375 -3.234375 C 3.125 -3.410156 3.273438 -3.597656 3.390625 -3.796875 C 3.503906 -3.992188 3.5625 -4.210938 3.5625 -4.453125 C 3.5625 -4.628906 3.535156 -4.78125 3.484375 -4.90625 C 3.429688 -5.039062 3.351562 -5.148438 3.25 -5.234375 C 3.15625 -5.328125 3.039062 -5.394531 2.90625 -5.4375 C 2.769531 -5.476562 2.617188 -5.5 2.453125 -5.5 C 2.296875 -5.5 2.148438 -5.476562 2.015625 -5.4375 C 1.878906 -5.394531 1.757812 -5.332031 1.65625 -5.25 C 1.550781 -5.164062 1.460938 -5.054688 1.390625 -4.921875 C 1.328125 -4.796875 1.285156 -4.648438 1.265625 -4.484375 L 0.484375 -4.5625 C 0.503906 -4.78125 0.5625 -4.984375 0.65625 -5.171875 C 0.75 -5.359375 0.878906 -5.523438 1.046875 -5.671875 C 1.210938 -5.816406 1.410156 -5.929688 1.640625 -6.015625 C 1.878906 -6.097656 2.148438 -6.140625 2.453125 -6.140625 C 2.753906 -6.140625 3.019531 -6.101562 3.25 -6.03125 C 3.488281 -5.957031 3.6875 -5.847656 3.84375 -5.703125 C 4.007812 -5.566406 4.132812 -5.394531 4.21875 -5.1875 C 4.3125 -4.988281 4.359375 -4.753906 4.359375 -4.484375 C 4.359375 -4.273438 4.320312 -4.078125 4.25 -3.890625 C 4.175781 -3.710938 4.078125 -3.539062 3.953125 -3.375 C 3.828125 -3.207031 3.6875 -3.046875 3.53125 -2.890625 C 3.375 -2.742188 3.207031 -2.59375 3.03125 -2.4375 C 2.851562 -2.289062 2.675781 -2.144531 2.5 -2 C 2.320312 -1.863281 2.15625 -1.722656 2 -1.578125 C 1.84375 -1.429688 1.703125 -1.28125 1.578125 -1.125 C 1.453125 -0.976562 1.359375 -0.820312 1.296875 -0.65625 L 4.453125 -0.65625 L 4.453125 0 Z M 0.4375 0 \"/>\n",
       "</symbol>\n",
       "<symbol overflow=\"visible\" id=\"glyph0-3\">\n",
       "<path style=\"stroke:none;\" d=\"M 3.78125 -1.375 L 3.78125 0 L 3.046875 0 L 3.046875 -1.375 L 0.203125 -1.375 L 0.203125 -1.96875 L 2.96875 -6.046875 L 3.78125 -6.046875 L 3.78125 -1.984375 L 4.640625 -1.984375 L 4.640625 -1.375 Z M 3.046875 -5.1875 C 3.046875 -5.164062 3.035156 -5.132812 3.015625 -5.09375 C 2.992188 -5.050781 2.96875 -5.003906 2.9375 -4.953125 C 2.90625 -4.898438 2.875 -4.847656 2.84375 -4.796875 C 2.8125 -4.742188 2.785156 -4.703125 2.765625 -4.671875 L 1.21875 -2.390625 C 1.195312 -2.359375 1.171875 -2.320312 1.140625 -2.28125 C 1.117188 -2.25 1.09375 -2.210938 1.0625 -2.171875 C 1.039062 -2.140625 1.015625 -2.101562 0.984375 -2.0625 C 0.953125 -2.03125 0.929688 -2.003906 0.921875 -1.984375 L 3.046875 -1.984375 Z M 3.046875 -5.1875 \"/>\n",
       "</symbol>\n",
       "<symbol overflow=\"visible\" id=\"glyph0-4\">\n",
       "<path style=\"stroke:none;\" d=\"M 4.5 -1.984375 C 4.5 -1.679688 4.457031 -1.398438 4.375 -1.140625 C 4.289062 -0.890625 4.164062 -0.671875 4 -0.484375 C 3.84375 -0.304688 3.640625 -0.164062 3.390625 -0.0625 C 3.148438 0.03125 2.867188 0.078125 2.546875 0.078125 C 2.191406 0.078125 1.882812 0.015625 1.625 -0.109375 C 1.363281 -0.242188 1.144531 -0.4375 0.96875 -0.6875 C 0.789062 -0.945312 0.660156 -1.257812 0.578125 -1.625 C 0.492188 -2 0.453125 -2.421875 0.453125 -2.890625 C 0.453125 -3.421875 0.5 -3.890625 0.59375 -4.296875 C 0.695312 -4.703125 0.835938 -5.039062 1.015625 -5.3125 C 1.203125 -5.59375 1.429688 -5.800781 1.703125 -5.9375 C 1.972656 -6.070312 2.273438 -6.140625 2.609375 -6.140625 C 2.816406 -6.140625 3.007812 -6.117188 3.1875 -6.078125 C 3.375 -6.035156 3.539062 -5.960938 3.6875 -5.859375 C 3.832031 -5.765625 3.957031 -5.640625 4.0625 -5.484375 C 4.175781 -5.328125 4.269531 -5.132812 4.34375 -4.90625 L 3.59375 -4.78125 C 3.519531 -5.039062 3.394531 -5.226562 3.21875 -5.34375 C 3.039062 -5.457031 2.835938 -5.515625 2.609375 -5.515625 C 2.390625 -5.515625 2.191406 -5.460938 2.015625 -5.359375 C 1.847656 -5.265625 1.703125 -5.117188 1.578125 -4.921875 C 1.460938 -4.722656 1.375 -4.472656 1.3125 -4.171875 C 1.25 -3.867188 1.21875 -3.515625 1.21875 -3.109375 C 1.351562 -3.367188 1.546875 -3.566406 1.796875 -3.703125 C 2.054688 -3.835938 2.351562 -3.90625 2.6875 -3.90625 C 2.957031 -3.90625 3.203125 -3.859375 3.421875 -3.765625 C 3.648438 -3.679688 3.84375 -3.554688 4 -3.390625 C 4.164062 -3.222656 4.289062 -3.019531 4.375 -2.78125 C 4.457031 -2.539062 4.5 -2.273438 4.5 -1.984375 Z M 3.71875 -1.953125 C 3.71875 -2.160156 3.691406 -2.347656 3.640625 -2.515625 C 3.585938 -2.679688 3.507812 -2.820312 3.40625 -2.9375 C 3.300781 -3.0625 3.171875 -3.15625 3.015625 -3.21875 C 2.867188 -3.28125 2.695312 -3.3125 2.5 -3.3125 C 2.363281 -3.3125 2.222656 -3.289062 2.078125 -3.25 C 1.929688 -3.207031 1.800781 -3.140625 1.6875 -3.046875 C 1.570312 -2.953125 1.476562 -2.828125 1.40625 -2.671875 C 1.332031 -2.523438 1.296875 -2.34375 1.296875 -2.125 C 1.296875 -1.90625 1.320312 -1.695312 1.375 -1.5 C 1.4375 -1.3125 1.519531 -1.144531 1.625 -1 C 1.726562 -0.851562 1.851562 -0.738281 2 -0.65625 C 2.15625 -0.570312 2.332031 -0.53125 2.53125 -0.53125 C 2.71875 -0.53125 2.882812 -0.5625 3.03125 -0.625 C 3.175781 -0.695312 3.300781 -0.789062 3.40625 -0.90625 C 3.507812 -1.03125 3.585938 -1.179688 3.640625 -1.359375 C 3.691406 -1.535156 3.71875 -1.734375 3.71875 -1.953125 Z M 3.71875 -1.953125 \"/>\n",
       "</symbol>\n",
       "<symbol overflow=\"visible\" id=\"glyph0-5\">\n",
       "<path style=\"stroke:none;\" d=\"M 4.515625 -1.6875 C 4.515625 -1.425781 4.472656 -1.1875 4.390625 -0.96875 C 4.304688 -0.757812 4.179688 -0.578125 4.015625 -0.421875 C 3.847656 -0.265625 3.632812 -0.140625 3.375 -0.046875 C 3.113281 0.0351562 2.804688 0.078125 2.453125 0.078125 C 2.097656 0.078125 1.789062 0.0351562 1.53125 -0.046875 C 1.269531 -0.140625 1.050781 -0.265625 0.875 -0.421875 C 0.707031 -0.578125 0.582031 -0.757812 0.5 -0.96875 C 0.414062 -1.1875 0.375 -1.421875 0.375 -1.671875 C 0.375 -1.898438 0.40625 -2.097656 0.46875 -2.265625 C 0.539062 -2.441406 0.632812 -2.59375 0.75 -2.71875 C 0.863281 -2.84375 0.992188 -2.941406 1.140625 -3.015625 C 1.285156 -3.085938 1.4375 -3.140625 1.59375 -3.171875 L 1.59375 -3.1875 C 1.414062 -3.226562 1.257812 -3.289062 1.125 -3.375 C 1 -3.46875 0.890625 -3.578125 0.796875 -3.703125 C 0.710938 -3.828125 0.644531 -3.960938 0.59375 -4.109375 C 0.550781 -4.265625 0.53125 -4.425781 0.53125 -4.59375 C 0.53125 -4.800781 0.566406 -5 0.640625 -5.1875 C 0.722656 -5.375 0.84375 -5.535156 1 -5.671875 C 1.164062 -5.816406 1.367188 -5.929688 1.609375 -6.015625 C 1.847656 -6.097656 2.125 -6.140625 2.4375 -6.140625 C 2.757812 -6.140625 3.039062 -6.097656 3.28125 -6.015625 C 3.53125 -5.929688 3.734375 -5.816406 3.890625 -5.671875 C 4.046875 -5.535156 4.160156 -5.375 4.234375 -5.1875 C 4.316406 -5 4.359375 -4.796875 4.359375 -4.578125 C 4.359375 -4.410156 4.332031 -4.25 4.28125 -4.09375 C 4.238281 -3.945312 4.171875 -3.8125 4.078125 -3.6875 C 3.992188 -3.5625 3.882812 -3.457031 3.75 -3.375 C 3.613281 -3.289062 3.457031 -3.226562 3.28125 -3.1875 L 3.28125 -3.171875 C 3.457031 -3.140625 3.617188 -3.085938 3.765625 -3.015625 C 3.921875 -2.941406 4.050781 -2.84375 4.15625 -2.71875 C 4.269531 -2.59375 4.359375 -2.441406 4.421875 -2.265625 C 4.484375 -2.097656 4.515625 -1.90625 4.515625 -1.6875 Z M 3.5625 -4.546875 C 3.5625 -4.691406 3.539062 -4.828125 3.5 -4.953125 C 3.457031 -5.078125 3.390625 -5.1875 3.296875 -5.28125 C 3.210938 -5.375 3.097656 -5.441406 2.953125 -5.484375 C 2.816406 -5.535156 2.644531 -5.5625 2.4375 -5.5625 C 2.226562 -5.5625 2.050781 -5.535156 1.90625 -5.484375 C 1.769531 -5.441406 1.65625 -5.375 1.5625 -5.28125 C 1.476562 -5.1875 1.414062 -5.078125 1.375 -4.953125 C 1.332031 -4.828125 1.3125 -4.691406 1.3125 -4.546875 C 1.3125 -4.421875 1.328125 -4.296875 1.359375 -4.171875 C 1.390625 -4.046875 1.445312 -3.929688 1.53125 -3.828125 C 1.613281 -3.722656 1.726562 -3.632812 1.875 -3.5625 C 2.019531 -3.5 2.207031 -3.46875 2.4375 -3.46875 C 2.6875 -3.46875 2.882812 -3.5 3.03125 -3.5625 C 3.175781 -3.632812 3.285156 -3.722656 3.359375 -3.828125 C 3.441406 -3.929688 3.492188 -4.046875 3.515625 -4.171875 C 3.546875 -4.296875 3.5625 -4.421875 3.5625 -4.546875 Z M 3.703125 -1.765625 C 3.703125 -1.910156 3.679688 -2.050781 3.640625 -2.1875 C 3.609375 -2.320312 3.539062 -2.441406 3.4375 -2.546875 C 3.34375 -2.648438 3.210938 -2.734375 3.046875 -2.796875 C 2.878906 -2.859375 2.675781 -2.890625 2.4375 -2.890625 C 2.207031 -2.890625 2.007812 -2.859375 1.84375 -2.796875 C 1.6875 -2.734375 1.554688 -2.648438 1.453125 -2.546875 C 1.359375 -2.441406 1.289062 -2.316406 1.25 -2.171875 C 1.207031 -2.035156 1.1875 -1.894531 1.1875 -1.75 C 1.1875 -1.5625 1.207031 -1.390625 1.25 -1.234375 C 1.289062 -1.078125 1.363281 -0.941406 1.46875 -0.828125 C 1.570312 -0.722656 1.703125 -0.640625 1.859375 -0.578125 C 2.023438 -0.523438 2.222656 -0.5 2.453125 -0.5 C 2.691406 -0.5 2.890625 -0.523438 3.046875 -0.578125 C 3.210938 -0.640625 3.34375 -0.722656 3.4375 -0.828125 C 3.53125 -0.941406 3.597656 -1.078125 3.640625 -1.234375 C 3.679688 -1.390625 3.703125 -1.566406 3.703125 -1.765625 Z M 3.703125 -1.765625 \"/>\n",
       "</symbol>\n",
       "<symbol overflow=\"visible\" id=\"glyph0-6\">\n",
       "<path style=\"stroke:none;\" d=\"M 1.546875 -5.375 L 1.546875 -3.125 L 4.921875 -3.125 L 4.921875 -2.453125 L 1.546875 -2.453125 L 1.546875 0 L 0.71875 0 L 0.71875 -6.046875 L 5.015625 -6.046875 L 5.015625 -5.375 Z M 1.546875 -5.375 \"/>\n",
       "</symbol>\n",
       "<symbol overflow=\"visible\" id=\"glyph0-7\">\n",
       "<path style=\"stroke:none;\" d=\"M 5.875 0 L 5.875 -4.03125 C 5.875 -4.175781 5.875 -4.328125 5.875 -4.484375 C 5.875 -4.640625 5.878906 -4.78125 5.890625 -4.90625 C 5.890625 -5.050781 5.894531 -5.191406 5.90625 -5.328125 C 5.863281 -5.179688 5.820312 -5.035156 5.78125 -4.890625 C 5.738281 -4.765625 5.695312 -4.632812 5.65625 -4.5 C 5.613281 -4.363281 5.570312 -4.238281 5.53125 -4.125 L 3.96875 0 L 3.390625 0 L 1.796875 -4.125 C 1.785156 -4.164062 1.769531 -4.210938 1.75 -4.265625 C 1.726562 -4.328125 1.707031 -4.390625 1.6875 -4.453125 C 1.664062 -4.515625 1.644531 -4.578125 1.625 -4.640625 C 1.601562 -4.710938 1.582031 -4.785156 1.5625 -4.859375 C 1.507812 -5.003906 1.460938 -5.160156 1.421875 -5.328125 C 1.421875 -5.160156 1.425781 -5 1.4375 -4.84375 C 1.4375 -4.707031 1.4375 -4.566406 1.4375 -4.421875 C 1.445312 -4.273438 1.453125 -4.144531 1.453125 -4.03125 L 1.453125 0 L 0.71875 0 L 0.71875 -6.046875 L 1.796875 -6.046875 L 3.40625 -1.859375 C 3.425781 -1.796875 3.453125 -1.71875 3.484375 -1.625 C 3.515625 -1.539062 3.539062 -1.453125 3.5625 -1.359375 C 3.59375 -1.265625 3.617188 -1.175781 3.640625 -1.09375 C 3.660156 -1.007812 3.675781 -0.941406 3.6875 -0.890625 C 3.6875 -0.941406 3.695312 -1.007812 3.71875 -1.09375 C 3.75 -1.175781 3.78125 -1.265625 3.8125 -1.359375 C 3.84375 -1.453125 3.867188 -1.539062 3.890625 -1.625 C 3.921875 -1.71875 3.945312 -1.796875 3.96875 -1.859375 L 5.546875 -6.046875 L 6.609375 -6.046875 L 6.609375 0 Z M 5.875 0 \"/>\n",
       "</symbol>\n",
       "<symbol overflow=\"visible\" id=\"glyph0-8\">\n",
       "<path style=\"stroke:none;\" d=\"M 5.015625 0 L 4.328125 -1.765625 L 1.5625 -1.765625 L 0.875 0 L 0.015625 0 L 2.484375 -6.046875 L 3.421875 -6.046875 L 5.84375 0 Z M 3.296875 -4.40625 C 3.253906 -4.519531 3.210938 -4.632812 3.171875 -4.75 C 3.128906 -4.875 3.09375 -4.984375 3.0625 -5.078125 C 3.03125 -5.171875 3.003906 -5.25 2.984375 -5.3125 C 2.960938 -5.375 2.945312 -5.414062 2.9375 -5.4375 C 2.9375 -5.414062 2.925781 -5.375 2.90625 -5.3125 C 2.882812 -5.25 2.859375 -5.164062 2.828125 -5.0625 C 2.796875 -4.96875 2.757812 -4.859375 2.71875 -4.734375 C 2.675781 -4.617188 2.628906 -4.507812 2.578125 -4.40625 L 1.8125 -2.40625 L 4.078125 -2.40625 Z M 3.296875 -4.40625 \"/>\n",
       "</symbol>\n",
       "<symbol overflow=\"visible\" id=\"glyph0-9\">\n",
       "<path style=\"stroke:none;\" d=\"M 1.1875 -2.34375 C 1.1875 -2.082031 1.203125 -1.835938 1.234375 -1.609375 C 1.273438 -1.390625 1.34375 -1.195312 1.4375 -1.03125 C 1.53125 -0.875 1.648438 -0.75 1.796875 -0.65625 C 1.941406 -0.570312 2.128906 -0.53125 2.359375 -0.53125 C 2.628906 -0.53125 2.851562 -0.601562 3.03125 -0.75 C 3.21875 -0.894531 3.335938 -1.125 3.390625 -1.4375 L 4.171875 -1.390625 C 4.140625 -1.191406 4.082031 -1.003906 4 -0.828125 C 3.914062 -0.648438 3.796875 -0.492188 3.640625 -0.359375 C 3.492188 -0.222656 3.316406 -0.113281 3.109375 -0.03125 C 2.898438 0.0390625 2.65625 0.078125 2.375 0.078125 C 2.007812 0.078125 1.695312 0.0195312 1.4375 -0.09375 C 1.1875 -0.21875 0.984375 -0.390625 0.828125 -0.609375 C 0.671875 -0.828125 0.554688 -1.082031 0.484375 -1.375 C 0.410156 -1.664062 0.375 -1.984375 0.375 -2.328125 C 0.375 -2.640625 0.398438 -2.914062 0.453125 -3.15625 C 0.503906 -3.394531 0.578125 -3.601562 0.671875 -3.78125 C 0.765625 -3.957031 0.875 -4.109375 1 -4.234375 C 1.125 -4.359375 1.257812 -4.457031 1.40625 -4.53125 C 1.550781 -4.601562 1.707031 -4.65625 1.875 -4.6875 C 2.039062 -4.71875 2.203125 -4.734375 2.359375 -4.734375 C 2.617188 -4.734375 2.851562 -4.695312 3.0625 -4.625 C 3.269531 -4.550781 3.445312 -4.453125 3.59375 -4.328125 C 3.738281 -4.203125 3.851562 -4.054688 3.9375 -3.890625 C 4.03125 -3.722656 4.097656 -3.539062 4.140625 -3.34375 L 3.34375 -3.28125 C 3.300781 -3.539062 3.195312 -3.742188 3.03125 -3.890625 C 2.875 -4.046875 2.644531 -4.125 2.34375 -4.125 C 2.125 -4.125 1.941406 -4.085938 1.796875 -4.015625 C 1.648438 -3.941406 1.53125 -3.832031 1.4375 -3.6875 C 1.34375 -3.539062 1.273438 -3.351562 1.234375 -3.125 C 1.203125 -2.90625 1.1875 -2.644531 1.1875 -2.34375 Z M 1.1875 -2.34375 \"/>\n",
       "</symbol>\n",
       "<symbol overflow=\"visible\" id=\"glyph0-10\">\n",
       "<path style=\"stroke:none;\" d=\"M 1.1875 -2.15625 C 1.1875 -1.914062 1.207031 -1.691406 1.25 -1.484375 C 1.300781 -1.285156 1.378906 -1.109375 1.484375 -0.953125 C 1.597656 -0.804688 1.734375 -0.691406 1.890625 -0.609375 C 2.054688 -0.535156 2.253906 -0.5 2.484375 -0.5 C 2.816406 -0.5 3.082031 -0.5625 3.28125 -0.6875 C 3.488281 -0.820312 3.628906 -0.992188 3.703125 -1.203125 L 4.375 -1.015625 C 4.320312 -0.890625 4.253906 -0.757812 4.171875 -0.625 C 4.085938 -0.488281 3.972656 -0.367188 3.828125 -0.265625 C 3.679688 -0.160156 3.5 -0.078125 3.28125 -0.015625 C 3.0625 0.046875 2.796875 0.078125 2.484375 0.078125 C 1.796875 0.078125 1.269531 -0.125 0.90625 -0.53125 C 0.550781 -0.9375 0.375 -1.546875 0.375 -2.359375 C 0.375 -2.785156 0.425781 -3.148438 0.53125 -3.453125 C 0.644531 -3.753906 0.796875 -4 0.984375 -4.1875 C 1.171875 -4.382812 1.390625 -4.523438 1.640625 -4.609375 C 1.890625 -4.691406 2.160156 -4.734375 2.453125 -4.734375 C 2.835938 -4.734375 3.160156 -4.671875 3.421875 -4.546875 C 3.691406 -4.421875 3.90625 -4.242188 4.0625 -4.015625 C 4.21875 -3.796875 4.328125 -3.535156 4.390625 -3.234375 C 4.460938 -2.929688 4.5 -2.609375 4.5 -2.265625 L 4.5 -2.15625 Z M 3.703125 -2.75 C 3.660156 -3.238281 3.535156 -3.59375 3.328125 -3.8125 C 3.117188 -4.039062 2.820312 -4.15625 2.4375 -4.15625 C 2.3125 -4.15625 2.175781 -4.132812 2.03125 -4.09375 C 1.894531 -4.050781 1.765625 -3.976562 1.640625 -3.875 C 1.515625 -3.769531 1.410156 -3.625 1.328125 -3.4375 C 1.253906 -3.257812 1.207031 -3.03125 1.1875 -2.75 Z M 3.703125 -2.75 \"/>\n",
       "</symbol>\n",
       "<symbol overflow=\"visible\" id=\"glyph0-11\">\n",
       "<path style=\"stroke:none;\" d=\"M 4.515625 -2.34375 C 4.515625 -1.988281 4.484375 -1.660156 4.421875 -1.359375 C 4.367188 -1.066406 4.273438 -0.8125 4.140625 -0.59375 C 4.015625 -0.382812 3.84375 -0.21875 3.625 -0.09375 C 3.40625 0.0195312 3.132812 0.078125 2.8125 0.078125 C 2.476562 0.078125 2.1875 0.015625 1.9375 -0.109375 C 1.6875 -0.234375 1.5 -0.4375 1.375 -0.71875 L 1.34375 -0.71875 C 1.351562 -0.71875 1.359375 -0.691406 1.359375 -0.640625 C 1.359375 -0.597656 1.359375 -0.539062 1.359375 -0.46875 C 1.359375 -0.40625 1.359375 -0.328125 1.359375 -0.234375 C 1.359375 -0.148438 1.359375 -0.0664062 1.359375 0.015625 L 1.359375 1.828125 L 0.59375 1.828125 L 0.59375 -3.703125 C 0.59375 -3.804688 0.59375 -3.910156 0.59375 -4.015625 C 0.59375 -4.117188 0.585938 -4.210938 0.578125 -4.296875 C 0.578125 -4.378906 0.578125 -4.453125 0.578125 -4.515625 C 0.578125 -4.578125 0.570312 -4.617188 0.5625 -4.640625 L 1.3125 -4.640625 C 1.3125 -4.640625 1.3125 -4.613281 1.3125 -4.5625 C 1.320312 -4.507812 1.328125 -4.445312 1.328125 -4.375 C 1.335938 -4.300781 1.34375 -4.222656 1.34375 -4.140625 C 1.351562 -4.054688 1.359375 -3.976562 1.359375 -3.90625 L 1.375 -3.90625 C 1.445312 -4.050781 1.523438 -4.175781 1.609375 -4.28125 C 1.703125 -4.382812 1.804688 -4.46875 1.921875 -4.53125 C 2.046875 -4.601562 2.179688 -4.65625 2.328125 -4.6875 C 2.472656 -4.71875 2.632812 -4.734375 2.8125 -4.734375 C 3.132812 -4.734375 3.40625 -4.675781 3.625 -4.5625 C 3.84375 -4.445312 4.015625 -4.285156 4.140625 -4.078125 C 4.273438 -3.867188 4.367188 -3.613281 4.421875 -3.3125 C 4.484375 -3.019531 4.515625 -2.695312 4.515625 -2.34375 Z M 3.71875 -2.328125 C 3.71875 -2.609375 3.695312 -2.859375 3.65625 -3.078125 C 3.625 -3.304688 3.566406 -3.5 3.484375 -3.65625 C 3.398438 -3.8125 3.285156 -3.925781 3.140625 -4 C 3.003906 -4.082031 2.828125 -4.125 2.609375 -4.125 C 2.441406 -4.125 2.28125 -4.097656 2.125 -4.046875 C 1.976562 -4.003906 1.847656 -3.914062 1.734375 -3.78125 C 1.617188 -3.644531 1.523438 -3.453125 1.453125 -3.203125 C 1.390625 -2.960938 1.359375 -2.648438 1.359375 -2.265625 C 1.359375 -1.941406 1.382812 -1.664062 1.4375 -1.4375 C 1.5 -1.207031 1.582031 -1.019531 1.6875 -0.875 C 1.789062 -0.738281 1.921875 -0.640625 2.078125 -0.578125 C 2.234375 -0.515625 2.410156 -0.484375 2.609375 -0.484375 C 2.816406 -0.484375 2.992188 -0.523438 3.140625 -0.609375 C 3.285156 -0.691406 3.398438 -0.8125 3.484375 -0.96875 C 3.566406 -1.125 3.625 -1.316406 3.65625 -1.546875 C 3.695312 -1.773438 3.71875 -2.035156 3.71875 -2.328125 Z M 3.71875 -2.328125 \"/>\n",
       "</symbol>\n",
       "<symbol overflow=\"visible\" id=\"glyph0-12\">\n",
       "<path style=\"stroke:none;\" d=\"M 2.375 -0.03125 C 2.257812 0 2.140625 0.0195312 2.015625 0.03125 C 1.898438 0.0507812 1.757812 0.0625 1.59375 0.0625 C 0.976562 0.0625 0.671875 -0.285156 0.671875 -0.984375 L 0.671875 -4.078125 L 0.140625 -4.078125 L 0.140625 -4.640625 L 0.703125 -4.640625 L 0.921875 -5.6875 L 1.4375 -5.6875 L 1.4375 -4.640625 L 2.296875 -4.640625 L 2.296875 -4.078125 L 1.4375 -4.078125 L 1.4375 -1.15625 C 1.4375 -0.925781 1.472656 -0.765625 1.546875 -0.671875 C 1.617188 -0.585938 1.75 -0.546875 1.9375 -0.546875 C 2.007812 -0.546875 2.078125 -0.550781 2.140625 -0.5625 C 2.210938 -0.570312 2.289062 -0.585938 2.375 -0.609375 Z M 2.375 -0.03125 \"/>\n",
       "</symbol>\n",
       "<symbol overflow=\"visible\" id=\"glyph0-13\">\n",
       "<path style=\"stroke:none;\" d=\"M 3.53125 -0.75 C 3.382812 -0.445312 3.191406 -0.234375 2.953125 -0.109375 C 2.722656 0.015625 2.429688 0.078125 2.078125 0.078125 C 1.492188 0.078125 1.0625 -0.113281 0.78125 -0.5 C 0.507812 -0.894531 0.375 -1.492188 0.375 -2.296875 C 0.375 -3.921875 0.941406 -4.734375 2.078125 -4.734375 C 2.429688 -4.734375 2.722656 -4.664062 2.953125 -4.53125 C 3.191406 -4.40625 3.382812 -4.203125 3.53125 -3.921875 C 3.53125 -3.953125 3.53125 -4 3.53125 -4.0625 C 3.53125 -4.125 3.53125 -4.1875 3.53125 -4.25 C 3.53125 -4.320312 3.53125 -4.382812 3.53125 -4.4375 C 3.53125 -4.5 3.53125 -4.546875 3.53125 -4.578125 L 3.53125 -6.375 L 4.296875 -6.375 L 4.296875 -0.953125 C 4.296875 -0.847656 4.296875 -0.742188 4.296875 -0.640625 C 4.296875 -0.535156 4.296875 -0.4375 4.296875 -0.34375 C 4.304688 -0.257812 4.3125 -0.1875 4.3125 -0.125 C 4.320312 -0.0625 4.328125 -0.0195312 4.328125 0 L 3.59375 0 C 3.582031 -0.03125 3.570312 -0.0703125 3.5625 -0.125 C 3.5625 -0.175781 3.554688 -0.234375 3.546875 -0.296875 C 3.546875 -0.367188 3.546875 -0.441406 3.546875 -0.515625 C 3.546875 -0.597656 3.546875 -0.675781 3.546875 -0.75 Z M 1.1875 -2.328125 C 1.1875 -2.003906 1.203125 -1.726562 1.234375 -1.5 C 1.273438 -1.269531 1.335938 -1.082031 1.421875 -0.9375 C 1.515625 -0.789062 1.628906 -0.679688 1.765625 -0.609375 C 1.910156 -0.546875 2.082031 -0.515625 2.28125 -0.515625 C 2.476562 -0.515625 2.65625 -0.546875 2.8125 -0.609375 C 2.96875 -0.671875 3.097656 -0.773438 3.203125 -0.921875 C 3.304688 -1.078125 3.382812 -1.269531 3.4375 -1.5 C 3.5 -1.738281 3.53125 -2.03125 3.53125 -2.375 C 3.53125 -2.707031 3.5 -2.988281 3.4375 -3.21875 C 3.382812 -3.445312 3.304688 -3.628906 3.203125 -3.765625 C 3.097656 -3.910156 2.96875 -4.007812 2.8125 -4.0625 C 2.65625 -4.125 2.476562 -4.15625 2.28125 -4.15625 C 2.09375 -4.15625 1.929688 -4.125 1.796875 -4.0625 C 1.660156 -4 1.546875 -3.894531 1.453125 -3.75 C 1.359375 -3.601562 1.289062 -3.410156 1.25 -3.171875 C 1.207031 -2.941406 1.1875 -2.660156 1.1875 -2.328125 Z M 1.1875 -2.328125 \"/>\n",
       "</symbol>\n",
       "<symbol overflow=\"visible\" id=\"glyph0-14\">\n",
       "<path style=\"stroke:none;\" d=\"M 5 0 L 3.421875 -2.515625 L 1.546875 -2.515625 L 1.546875 0 L 0.71875 0 L 0.71875 -6.046875 L 3.5625 -6.046875 C 3.90625 -6.046875 4.207031 -6.003906 4.46875 -5.921875 C 4.738281 -5.847656 4.960938 -5.738281 5.140625 -5.59375 C 5.328125 -5.445312 5.46875 -5.265625 5.5625 -5.046875 C 5.65625 -4.828125 5.703125 -4.585938 5.703125 -4.328125 C 5.703125 -4.128906 5.671875 -3.9375 5.609375 -3.75 C 5.554688 -3.5625 5.46875 -3.390625 5.34375 -3.234375 C 5.226562 -3.085938 5.078125 -2.957031 4.890625 -2.84375 C 4.710938 -2.726562 4.492188 -2.648438 4.234375 -2.609375 L 5.9375 0 Z M 4.875 -4.3125 C 4.875 -4.5 4.84375 -4.65625 4.78125 -4.78125 C 4.71875 -4.914062 4.625 -5.03125 4.5 -5.125 C 4.382812 -5.21875 4.238281 -5.285156 4.0625 -5.328125 C 3.894531 -5.367188 3.703125 -5.390625 3.484375 -5.390625 L 1.546875 -5.390625 L 1.546875 -3.15625 L 3.515625 -3.15625 C 3.753906 -3.15625 3.957031 -3.1875 4.125 -3.25 C 4.300781 -3.3125 4.441406 -3.390625 4.546875 -3.484375 C 4.660156 -3.585938 4.742188 -3.707031 4.796875 -3.84375 C 4.847656 -3.988281 4.875 -4.144531 4.875 -4.3125 Z M 4.875 -4.3125 \"/>\n",
       "</symbol>\n",
       "<symbol overflow=\"visible\" id=\"glyph0-15\">\n",
       "<path style=\"stroke:none;\" d=\"M 0.59375 -5.640625 L 0.59375 -6.375 L 1.359375 -6.375 L 1.359375 -5.640625 Z M 1.359375 0.578125 C 1.359375 0.753906 1.34375 0.914062 1.3125 1.0625 C 1.28125 1.21875 1.226562 1.347656 1.15625 1.453125 C 1.082031 1.566406 0.976562 1.65625 0.84375 1.71875 C 0.707031 1.789062 0.535156 1.828125 0.328125 1.828125 C 0.234375 1.828125 0.140625 1.820312 0.046875 1.8125 C -0.046875 1.8125 -0.132812 1.800781 -0.21875 1.78125 L -0.21875 1.1875 C -0.175781 1.195312 -0.128906 1.203125 -0.078125 1.203125 C -0.0234375 1.210938 0.015625 1.21875 0.046875 1.21875 C 0.160156 1.21875 0.25 1.203125 0.3125 1.171875 C 0.382812 1.140625 0.441406 1.09375 0.484375 1.03125 C 0.523438 0.96875 0.550781 0.890625 0.5625 0.796875 C 0.582031 0.703125 0.59375 0.585938 0.59375 0.453125 L 0.59375 -4.640625 L 1.359375 -4.640625 Z M 1.359375 0.578125 \"/>\n",
       "</symbol>\n",
       "<symbol overflow=\"visible\" id=\"glyph1-0\">\n",
       "<path style=\"stroke:none;\" d=\"M 0.359375 0 L 0.359375 -7.328125 L 3.28125 -7.328125 L 3.28125 0 Z M 0.734375 -0.359375 L 2.921875 -0.359375 L 2.921875 -6.96875 L 0.734375 -6.96875 Z M 0.734375 -0.359375 \"/>\n",
       "</symbol>\n",
       "<symbol overflow=\"visible\" id=\"glyph1-1\">\n",
       "<path style=\"stroke:none;\" d=\"M 0.546875 -3.8125 C 0.546875 -4.40625 0.625 -4.941406 0.78125 -5.421875 C 0.945312 -5.898438 1.1875 -6.304688 1.5 -6.640625 C 1.820312 -6.972656 2.21875 -7.226562 2.6875 -7.40625 C 3.15625 -7.59375 3.695312 -7.6875 4.3125 -7.6875 C 4.78125 -7.6875 5.1875 -7.644531 5.53125 -7.5625 C 5.882812 -7.476562 6.191406 -7.359375 6.453125 -7.203125 C 6.710938 -7.046875 6.929688 -6.859375 7.109375 -6.640625 C 7.285156 -6.421875 7.4375 -6.171875 7.5625 -5.890625 L 6.59375 -5.609375 C 6.5 -5.796875 6.382812 -5.960938 6.25 -6.109375 C 6.125 -6.265625 5.96875 -6.394531 5.78125 -6.5 C 5.59375 -6.613281 5.375 -6.695312 5.125 -6.75 C 4.882812 -6.8125 4.609375 -6.84375 4.296875 -6.84375 C 3.835938 -6.84375 3.4375 -6.769531 3.09375 -6.625 C 2.757812 -6.476562 2.476562 -6.273438 2.25 -6.015625 C 2.03125 -5.753906 1.863281 -5.4375 1.75 -5.0625 C 1.644531 -4.6875 1.59375 -4.269531 1.59375 -3.8125 C 1.59375 -3.363281 1.648438 -2.945312 1.765625 -2.5625 C 1.890625 -2.1875 2.066406 -1.863281 2.296875 -1.59375 C 2.523438 -1.320312 2.8125 -1.109375 3.15625 -0.953125 C 3.507812 -0.796875 3.910156 -0.71875 4.359375 -0.71875 C 4.660156 -0.71875 4.9375 -0.742188 5.1875 -0.796875 C 5.4375 -0.847656 5.660156 -0.914062 5.859375 -1 C 6.066406 -1.082031 6.25 -1.171875 6.40625 -1.265625 C 6.5625 -1.359375 6.691406 -1.457031 6.796875 -1.5625 L 6.796875 -2.921875 L 4.53125 -2.921875 L 4.53125 -3.78125 L 7.734375 -3.78125 L 7.734375 -1.171875 C 7.566406 -1.003906 7.367188 -0.84375 7.140625 -0.6875 C 6.910156 -0.53125 6.65625 -0.390625 6.375 -0.265625 C 6.09375 -0.148438 5.78125 -0.0625 5.4375 0 C 5.101562 0.0703125 4.742188 0.109375 4.359375 0.109375 C 3.722656 0.109375 3.164062 0.0078125 2.6875 -0.1875 C 2.21875 -0.382812 1.820312 -0.65625 1.5 -1 C 1.1875 -1.351562 0.945312 -1.769531 0.78125 -2.25 C 0.625 -2.726562 0.546875 -3.25 0.546875 -3.8125 Z M 0.546875 -3.8125 \"/>\n",
       "</symbol>\n",
       "<symbol overflow=\"visible\" id=\"glyph1-2\">\n",
       "<path style=\"stroke:none;\" d=\"M 1.484375 -2.703125 C 1.484375 -2.398438 1.515625 -2.117188 1.578125 -1.859375 C 1.640625 -1.609375 1.734375 -1.390625 1.859375 -1.203125 C 1.992188 -1.015625 2.160156 -0.867188 2.359375 -0.765625 C 2.566406 -0.671875 2.816406 -0.625 3.109375 -0.625 C 3.523438 -0.625 3.859375 -0.707031 4.109375 -0.875 C 4.359375 -1.039062 4.53125 -1.253906 4.625 -1.515625 L 5.46875 -1.265625 C 5.40625 -1.109375 5.316406 -0.945312 5.203125 -0.78125 C 5.097656 -0.613281 4.953125 -0.460938 4.765625 -0.328125 C 4.585938 -0.203125 4.363281 -0.0976562 4.09375 -0.015625 C 3.820312 0.0664062 3.492188 0.109375 3.109375 0.109375 C 2.242188 0.109375 1.585938 -0.144531 1.140625 -0.65625 C 0.691406 -1.164062 0.46875 -1.925781 0.46875 -2.9375 C 0.46875 -3.488281 0.535156 -3.953125 0.671875 -4.328125 C 0.804688 -4.703125 0.988281 -5.007812 1.21875 -5.25 C 1.457031 -5.488281 1.734375 -5.660156 2.046875 -5.765625 C 2.367188 -5.867188 2.707031 -5.921875 3.0625 -5.921875 C 3.550781 -5.921875 3.957031 -5.84375 4.28125 -5.6875 C 4.613281 -5.53125 4.878906 -5.3125 5.078125 -5.03125 C 5.273438 -4.75 5.414062 -4.421875 5.5 -4.046875 C 5.582031 -3.671875 5.625 -3.265625 5.625 -2.828125 L 5.625 -2.703125 Z M 4.625 -3.4375 C 4.570312 -4.050781 4.414062 -4.5 4.15625 -4.78125 C 3.90625 -5.0625 3.535156 -5.203125 3.046875 -5.203125 C 2.890625 -5.203125 2.722656 -5.175781 2.546875 -5.125 C 2.367188 -5.070312 2.203125 -4.976562 2.046875 -4.84375 C 1.898438 -4.71875 1.773438 -4.539062 1.671875 -4.3125 C 1.566406 -4.082031 1.507812 -3.789062 1.5 -3.4375 Z M 4.625 -3.4375 \"/>\n",
       "</symbol>\n",
       "<symbol overflow=\"visible\" id=\"glyph1-3\">\n",
       "<path style=\"stroke:none;\" d=\"M 4.4375 0 L 4.4375 -3.6875 C 4.4375 -3.96875 4.414062 -4.203125 4.375 -4.390625 C 4.332031 -4.578125 4.265625 -4.726562 4.171875 -4.84375 C 4.078125 -4.96875 3.953125 -5.050781 3.796875 -5.09375 C 3.648438 -5.144531 3.460938 -5.171875 3.234375 -5.171875 C 3.003906 -5.171875 2.796875 -5.128906 2.609375 -5.046875 C 2.429688 -4.972656 2.273438 -4.859375 2.140625 -4.703125 C 2.003906 -4.546875 1.898438 -4.351562 1.828125 -4.125 C 1.765625 -3.90625 1.734375 -3.65625 1.734375 -3.375 L 1.734375 0 L 0.765625 0 L 0.765625 -4.578125 C 0.765625 -4.691406 0.757812 -4.816406 0.75 -4.953125 C 0.75 -5.085938 0.75 -5.210938 0.75 -5.328125 C 0.75 -5.453125 0.742188 -5.554688 0.734375 -5.640625 C 0.734375 -5.734375 0.734375 -5.789062 0.734375 -5.8125 L 1.640625 -5.8125 C 1.648438 -5.789062 1.65625 -5.738281 1.65625 -5.65625 C 1.65625 -5.582031 1.65625 -5.492188 1.65625 -5.390625 C 1.664062 -5.296875 1.671875 -5.191406 1.671875 -5.078125 C 1.679688 -4.972656 1.6875 -4.882812 1.6875 -4.8125 L 1.703125 -4.8125 C 1.796875 -4.988281 1.894531 -5.144531 2 -5.28125 C 2.113281 -5.414062 2.242188 -5.53125 2.390625 -5.625 C 2.535156 -5.71875 2.703125 -5.789062 2.890625 -5.84375 C 3.085938 -5.894531 3.3125 -5.921875 3.5625 -5.921875 C 3.882812 -5.921875 4.160156 -5.878906 4.390625 -5.796875 C 4.628906 -5.722656 4.820312 -5.601562 4.96875 -5.4375 C 5.113281 -5.269531 5.222656 -5.054688 5.296875 -4.796875 C 5.367188 -4.535156 5.40625 -4.226562 5.40625 -3.875 L 5.40625 0 Z M 4.4375 0 \"/>\n",
       "</symbol>\n",
       "<symbol overflow=\"visible\" id=\"glyph1-4\">\n",
       "<path style=\"stroke:none;\" d=\"M 4.40625 -0.9375 C 4.226562 -0.5625 3.988281 -0.289062 3.6875 -0.125 C 3.394531 0.03125 3.03125 0.109375 2.59375 0.109375 C 1.863281 0.109375 1.328125 -0.132812 0.984375 -0.625 C 0.640625 -1.125 0.46875 -1.875 0.46875 -2.875 C 0.46875 -4.90625 1.175781 -5.921875 2.59375 -5.921875 C 3.039062 -5.921875 3.410156 -5.835938 3.703125 -5.671875 C 3.992188 -5.515625 4.226562 -5.257812 4.40625 -4.90625 L 4.421875 -4.90625 C 4.421875 -4.945312 4.421875 -5.003906 4.421875 -5.078125 C 4.421875 -5.148438 4.414062 -5.226562 4.40625 -5.3125 C 4.40625 -5.40625 4.40625 -5.488281 4.40625 -5.5625 C 4.40625 -5.632812 4.40625 -5.6875 4.40625 -5.71875 L 4.40625 -7.96875 L 5.375 -7.96875 L 5.375 -1.203125 C 5.375 -1.054688 5.375 -0.921875 5.375 -0.796875 C 5.375 -0.671875 5.375 -0.550781 5.375 -0.4375 C 5.382812 -0.332031 5.390625 -0.238281 5.390625 -0.15625 C 5.398438 -0.0820312 5.40625 -0.03125 5.40625 0 L 4.484375 0 C 4.472656 -0.03125 4.460938 -0.078125 4.453125 -0.140625 C 4.453125 -0.210938 4.445312 -0.289062 4.4375 -0.375 C 4.4375 -0.46875 4.4375 -0.5625 4.4375 -0.65625 C 4.4375 -0.75 4.4375 -0.84375 4.4375 -0.9375 Z M 1.484375 -2.90625 C 1.484375 -2.507812 1.503906 -2.164062 1.546875 -1.875 C 1.597656 -1.59375 1.675781 -1.359375 1.78125 -1.171875 C 1.894531 -0.984375 2.035156 -0.847656 2.203125 -0.765625 C 2.378906 -0.679688 2.59375 -0.640625 2.84375 -0.640625 C 3.101562 -0.640625 3.328125 -0.679688 3.515625 -0.765625 C 3.710938 -0.847656 3.875 -0.976562 4 -1.15625 C 4.132812 -1.34375 4.234375 -1.582031 4.296875 -1.875 C 4.367188 -2.175781 4.40625 -2.539062 4.40625 -2.96875 C 4.40625 -3.382812 4.367188 -3.734375 4.296875 -4.015625 C 4.234375 -4.304688 4.132812 -4.535156 4 -4.703125 C 3.875 -4.878906 3.710938 -5.003906 3.515625 -5.078125 C 3.328125 -5.160156 3.109375 -5.203125 2.859375 -5.203125 C 2.617188 -5.203125 2.410156 -5.160156 2.234375 -5.078125 C 2.066406 -4.992188 1.925781 -4.859375 1.8125 -4.671875 C 1.695312 -4.492188 1.613281 -4.257812 1.5625 -3.96875 C 1.507812 -3.675781 1.484375 -3.320312 1.484375 -2.90625 Z M 1.484375 -2.90625 \"/>\n",
       "</symbol>\n",
       "<symbol overflow=\"visible\" id=\"glyph1-5\">\n",
       "<path style=\"stroke:none;\" d=\"M 0.765625 0 L 0.765625 -4.453125 C 0.765625 -4.578125 0.757812 -4.703125 0.75 -4.828125 C 0.75 -4.953125 0.75 -5.070312 0.75 -5.1875 C 0.75 -5.3125 0.742188 -5.425781 0.734375 -5.53125 C 0.734375 -5.632812 0.734375 -5.726562 0.734375 -5.8125 L 1.640625 -5.8125 C 1.648438 -5.726562 1.65625 -5.632812 1.65625 -5.53125 C 1.664062 -5.425781 1.671875 -5.316406 1.671875 -5.203125 C 1.679688 -5.085938 1.6875 -4.976562 1.6875 -4.875 C 1.6875 -4.78125 1.6875 -4.695312 1.6875 -4.625 L 1.703125 -4.625 C 1.773438 -4.84375 1.847656 -5.035156 1.921875 -5.203125 C 2.003906 -5.367188 2.097656 -5.503906 2.203125 -5.609375 C 2.304688 -5.710938 2.425781 -5.789062 2.5625 -5.84375 C 2.707031 -5.894531 2.882812 -5.921875 3.09375 -5.921875 C 3.164062 -5.921875 3.238281 -5.910156 3.3125 -5.890625 C 3.382812 -5.878906 3.441406 -5.867188 3.484375 -5.859375 L 3.484375 -4.984375 C 3.421875 -4.992188 3.34375 -5.003906 3.25 -5.015625 C 3.164062 -5.023438 3.070312 -5.03125 2.96875 -5.03125 C 2.738281 -5.03125 2.546875 -4.976562 2.390625 -4.875 C 2.242188 -4.78125 2.117188 -4.644531 2.015625 -4.46875 C 1.921875 -4.289062 1.847656 -4.078125 1.796875 -3.828125 C 1.753906 -3.585938 1.734375 -3.320312 1.734375 -3.03125 L 1.734375 0 Z M 0.765625 0 \"/>\n",
       "</symbol>\n",
       "<symbol overflow=\"visible\" id=\"glyph1-6\">\n",
       "<path style=\"stroke:none;\" d=\"M 2.21875 0.109375 C 1.632812 0.109375 1.195312 -0.0390625 0.90625 -0.34375 C 0.613281 -0.65625 0.46875 -1.082031 0.46875 -1.625 C 0.46875 -2.007812 0.539062 -2.320312 0.6875 -2.5625 C 0.832031 -2.8125 1.019531 -3.003906 1.25 -3.140625 C 1.488281 -3.285156 1.757812 -3.382812 2.0625 -3.4375 C 2.363281 -3.488281 2.664062 -3.519531 2.96875 -3.53125 L 4.28125 -3.546875 L 4.28125 -3.859375 C 4.28125 -4.097656 4.253906 -4.300781 4.203125 -4.46875 C 4.148438 -4.644531 4.070312 -4.78125 3.96875 -4.875 C 3.863281 -4.976562 3.734375 -5.054688 3.578125 -5.109375 C 3.429688 -5.160156 3.25 -5.1875 3.03125 -5.1875 C 2.84375 -5.1875 2.671875 -5.171875 2.515625 -5.140625 C 2.367188 -5.117188 2.238281 -5.070312 2.125 -5 C 2.019531 -4.925781 1.929688 -4.828125 1.859375 -4.703125 C 1.796875 -4.585938 1.753906 -4.441406 1.734375 -4.265625 L 0.71875 -4.34375 C 0.757812 -4.570312 0.828125 -4.78125 0.921875 -4.96875 C 1.023438 -5.164062 1.171875 -5.332031 1.359375 -5.46875 C 1.546875 -5.613281 1.773438 -5.722656 2.046875 -5.796875 C 2.328125 -5.878906 2.664062 -5.921875 3.0625 -5.921875 C 3.789062 -5.921875 4.335938 -5.753906 4.703125 -5.421875 C 5.078125 -5.085938 5.265625 -4.601562 5.265625 -3.96875 L 5.265625 -1.46875 C 5.265625 -1.175781 5.300781 -0.957031 5.375 -0.8125 C 5.445312 -0.664062 5.585938 -0.59375 5.796875 -0.59375 C 5.847656 -0.59375 5.898438 -0.597656 5.953125 -0.609375 C 6.015625 -0.617188 6.070312 -0.628906 6.125 -0.640625 L 6.125 -0.03125 C 6 0 5.875 0.0195312 5.75 0.03125 C 5.632812 0.0390625 5.507812 0.046875 5.375 0.046875 C 5.1875 0.046875 5.023438 0.0234375 4.890625 -0.015625 C 4.765625 -0.0664062 4.660156 -0.140625 4.578125 -0.234375 C 4.492188 -0.335938 4.429688 -0.460938 4.390625 -0.609375 C 4.347656 -0.753906 4.320312 -0.921875 4.3125 -1.109375 L 4.28125 -1.109375 C 4.175781 -0.921875 4.0625 -0.75 3.9375 -0.59375 C 3.8125 -0.445312 3.664062 -0.320312 3.5 -0.21875 C 3.34375 -0.113281 3.15625 -0.0351562 2.9375 0.015625 C 2.726562 0.078125 2.488281 0.109375 2.21875 0.109375 Z M 2.4375 -0.625 C 2.75 -0.625 3.019531 -0.675781 3.25 -0.78125 C 3.476562 -0.894531 3.671875 -1.039062 3.828125 -1.21875 C 3.984375 -1.394531 4.097656 -1.585938 4.171875 -1.796875 C 4.242188 -2.003906 4.28125 -2.203125 4.28125 -2.390625 L 4.28125 -2.875 L 3.21875 -2.84375 C 2.988281 -2.84375 2.765625 -2.828125 2.546875 -2.796875 C 2.335938 -2.765625 2.148438 -2.703125 1.984375 -2.609375 C 1.828125 -2.523438 1.703125 -2.398438 1.609375 -2.234375 C 1.515625 -2.078125 1.46875 -1.867188 1.46875 -1.609375 C 1.46875 -1.296875 1.550781 -1.050781 1.71875 -0.875 C 1.882812 -0.707031 2.125 -0.625 2.4375 -0.625 Z M 2.4375 -0.625 \"/>\n",
       "</symbol>\n",
       "<symbol overflow=\"visible\" id=\"glyph1-7\">\n",
       "<path style=\"stroke:none;\" d=\"M 4.125 0 L 4.125 -3.6875 C 4.125 -3.96875 4.101562 -4.203125 4.0625 -4.390625 C 4.03125 -4.578125 3.972656 -4.726562 3.890625 -4.84375 C 3.804688 -4.96875 3.695312 -5.050781 3.5625 -5.09375 C 3.425781 -5.144531 3.257812 -5.171875 3.0625 -5.171875 C 2.851562 -5.171875 2.664062 -5.128906 2.5 -5.046875 C 2.34375 -4.972656 2.203125 -4.859375 2.078125 -4.703125 C 1.960938 -4.546875 1.875 -4.351562 1.8125 -4.125 C 1.75 -3.90625 1.71875 -3.65625 1.71875 -3.375 L 1.71875 0 L 0.765625 0 L 0.765625 -4.578125 C 0.765625 -4.691406 0.757812 -4.816406 0.75 -4.953125 C 0.75 -5.085938 0.75 -5.210938 0.75 -5.328125 C 0.75 -5.453125 0.742188 -5.554688 0.734375 -5.640625 C 0.734375 -5.734375 0.734375 -5.789062 0.734375 -5.8125 L 1.640625 -5.8125 C 1.648438 -5.789062 1.65625 -5.738281 1.65625 -5.65625 C 1.65625 -5.582031 1.65625 -5.492188 1.65625 -5.390625 C 1.664062 -5.296875 1.671875 -5.191406 1.671875 -5.078125 C 1.679688 -4.972656 1.6875 -4.882812 1.6875 -4.8125 L 1.703125 -4.8125 C 1.785156 -4.988281 1.875 -5.144531 1.96875 -5.28125 C 2.070312 -5.414062 2.191406 -5.53125 2.328125 -5.625 C 2.460938 -5.71875 2.617188 -5.789062 2.796875 -5.84375 C 2.972656 -5.894531 3.175781 -5.921875 3.40625 -5.921875 C 3.84375 -5.921875 4.1875 -5.832031 4.4375 -5.65625 C 4.695312 -5.476562 4.878906 -5.195312 4.984375 -4.8125 L 5 -4.8125 C 5.082031 -4.988281 5.175781 -5.144531 5.28125 -5.28125 C 5.394531 -5.414062 5.519531 -5.53125 5.65625 -5.625 C 5.800781 -5.71875 5.960938 -5.789062 6.140625 -5.84375 C 6.316406 -5.894531 6.519531 -5.921875 6.75 -5.921875 C 7.050781 -5.921875 7.304688 -5.878906 7.515625 -5.796875 C 7.734375 -5.722656 7.910156 -5.601562 8.046875 -5.4375 C 8.179688 -5.269531 8.28125 -5.054688 8.34375 -4.796875 C 8.40625 -4.535156 8.4375 -4.226562 8.4375 -3.875 L 8.4375 0 L 7.484375 0 L 7.484375 -3.6875 C 7.484375 -3.96875 7.460938 -4.203125 7.421875 -4.390625 C 7.390625 -4.578125 7.332031 -4.726562 7.25 -4.84375 C 7.164062 -4.96875 7.054688 -5.050781 6.921875 -5.09375 C 6.785156 -5.144531 6.617188 -5.171875 6.421875 -5.171875 C 6.210938 -5.171875 6.023438 -5.128906 5.859375 -5.046875 C 5.703125 -4.972656 5.5625 -4.859375 5.4375 -4.703125 C 5.320312 -4.554688 5.234375 -4.367188 5.171875 -4.140625 C 5.109375 -3.921875 5.078125 -3.664062 5.078125 -3.375 L 5.078125 0 Z M 4.125 0 \"/>\n",
       "</symbol>\n",
       "<symbol overflow=\"visible\" id=\"glyph1-8\">\n",
       "<path style=\"stroke:none;\" d=\"M 0.734375 -7.046875 L 0.734375 -7.96875 L 1.703125 -7.96875 L 1.703125 -7.046875 Z M 0.734375 0 L 0.734375 -5.8125 L 1.703125 -5.8125 L 1.703125 0 Z M 0.734375 0 \"/>\n",
       "</symbol>\n",
       "<symbol overflow=\"visible\" id=\"glyph1-9\">\n",
       "<path style=\"stroke:none;\" d=\"M 5.109375 -1.609375 C 5.109375 -1.335938 5.050781 -1.09375 4.9375 -0.875 C 4.832031 -0.664062 4.679688 -0.488281 4.484375 -0.34375 C 4.285156 -0.195312 4.039062 -0.0820312 3.75 0 C 3.457031 0.0703125 3.125 0.109375 2.75 0.109375 C 2.40625 0.109375 2.097656 0.0820312 1.828125 0.03125 C 1.554688 -0.0195312 1.316406 -0.101562 1.109375 -0.21875 C 0.910156 -0.332031 0.742188 -0.484375 0.609375 -0.671875 C 0.472656 -0.859375 0.375 -1.085938 0.3125 -1.359375 L 1.15625 -1.53125 C 1.238281 -1.21875 1.410156 -0.988281 1.671875 -0.84375 C 1.929688 -0.695312 2.289062 -0.625 2.75 -0.625 C 2.957031 -0.625 3.144531 -0.640625 3.3125 -0.671875 C 3.488281 -0.703125 3.640625 -0.75 3.765625 -0.8125 C 3.890625 -0.882812 3.984375 -0.976562 4.046875 -1.09375 C 4.117188 -1.207031 4.15625 -1.351562 4.15625 -1.53125 C 4.15625 -1.707031 4.113281 -1.847656 4.03125 -1.953125 C 3.957031 -2.066406 3.84375 -2.160156 3.6875 -2.234375 C 3.539062 -2.316406 3.363281 -2.382812 3.15625 -2.4375 C 2.945312 -2.5 2.71875 -2.5625 2.46875 -2.625 C 2.238281 -2.6875 2.007812 -2.753906 1.78125 -2.828125 C 1.550781 -2.898438 1.34375 -3 1.15625 -3.125 C 0.96875 -3.25 0.816406 -3.398438 0.703125 -3.578125 C 0.585938 -3.765625 0.53125 -4 0.53125 -4.28125 C 0.53125 -4.8125 0.71875 -5.210938 1.09375 -5.484375 C 1.476562 -5.765625 2.03125 -5.90625 2.75 -5.90625 C 3.394531 -5.90625 3.90625 -5.789062 4.28125 -5.5625 C 4.65625 -5.332031 4.894531 -4.972656 5 -4.484375 L 4.125 -4.375 C 4.09375 -4.519531 4.035156 -4.644531 3.953125 -4.75 C 3.867188 -4.851562 3.765625 -4.9375 3.640625 -5 C 3.515625 -5.0625 3.375 -5.101562 3.21875 -5.125 C 3.070312 -5.15625 2.914062 -5.171875 2.75 -5.171875 C 2.3125 -5.171875 1.988281 -5.101562 1.78125 -4.96875 C 1.582031 -4.84375 1.484375 -4.644531 1.484375 -4.375 C 1.484375 -4.21875 1.519531 -4.085938 1.59375 -3.984375 C 1.664062 -3.878906 1.769531 -3.789062 1.90625 -3.71875 C 2.050781 -3.65625 2.21875 -3.597656 2.40625 -3.546875 C 2.601562 -3.492188 2.816406 -3.4375 3.046875 -3.375 C 3.203125 -3.332031 3.359375 -3.289062 3.515625 -3.25 C 3.679688 -3.207031 3.835938 -3.15625 3.984375 -3.09375 C 4.140625 -3.03125 4.285156 -2.957031 4.421875 -2.875 C 4.554688 -2.789062 4.671875 -2.6875 4.765625 -2.5625 C 4.867188 -2.445312 4.953125 -2.3125 5.015625 -2.15625 C 5.078125 -2 5.109375 -1.816406 5.109375 -1.609375 Z M 5.109375 -1.609375 \"/>\n",
       "</symbol>\n",
       "<symbol overflow=\"visible\" id=\"glyph1-10\">\n",
       "<path style=\"stroke:none;\" d=\"M 5.65625 -2.90625 C 5.65625 -1.894531 5.429688 -1.140625 4.984375 -0.640625 C 4.535156 -0.140625 3.882812 0.109375 3.03125 0.109375 C 2.625 0.109375 2.257812 0.046875 1.9375 -0.078125 C 1.625 -0.203125 1.359375 -0.390625 1.140625 -0.640625 C 0.921875 -0.890625 0.753906 -1.203125 0.640625 -1.578125 C 0.523438 -1.953125 0.46875 -2.394531 0.46875 -2.90625 C 0.46875 -4.914062 1.332031 -5.921875 3.0625 -5.921875 C 3.519531 -5.921875 3.910156 -5.859375 4.234375 -5.734375 C 4.566406 -5.609375 4.835938 -5.421875 5.046875 -5.171875 C 5.253906 -4.921875 5.40625 -4.601562 5.5 -4.21875 C 5.601562 -3.84375 5.65625 -3.40625 5.65625 -2.90625 Z M 4.640625 -2.90625 C 4.640625 -3.363281 4.601562 -3.738281 4.53125 -4.03125 C 4.46875 -4.320312 4.367188 -4.554688 4.234375 -4.734375 C 4.097656 -4.910156 3.929688 -5.03125 3.734375 -5.09375 C 3.546875 -5.164062 3.328125 -5.203125 3.078125 -5.203125 C 2.835938 -5.203125 2.613281 -5.164062 2.40625 -5.09375 C 2.207031 -5.019531 2.039062 -4.894531 1.90625 -4.71875 C 1.769531 -4.539062 1.664062 -4.304688 1.59375 -4.015625 C 1.519531 -3.722656 1.484375 -3.351562 1.484375 -2.90625 C 1.484375 -2.457031 1.519531 -2.082031 1.59375 -1.78125 C 1.675781 -1.488281 1.785156 -1.253906 1.921875 -1.078125 C 2.054688 -0.910156 2.21875 -0.789062 2.40625 -0.71875 C 2.59375 -0.644531 2.800781 -0.609375 3.03125 -0.609375 C 3.269531 -0.609375 3.488281 -0.640625 3.6875 -0.703125 C 3.894531 -0.773438 4.066406 -0.898438 4.203125 -1.078125 C 4.347656 -1.253906 4.457031 -1.488281 4.53125 -1.78125 C 4.601562 -2.082031 4.640625 -2.457031 4.640625 -2.90625 Z M 4.640625 -2.90625 \"/>\n",
       "</symbol>\n",
       "<symbol overflow=\"visible\" id=\"glyph2-0\">\n",
       "<path style=\"stroke:none;\" d=\"M 0 -0.359375 L -7.328125 -0.359375 L -7.328125 -3.28125 L 0 -3.28125 Z M -0.359375 -0.734375 L -0.359375 -2.921875 L -6.96875 -2.921875 L -6.96875 -0.734375 Z M -0.359375 -0.734375 \"/>\n",
       "</symbol>\n",
       "<symbol overflow=\"visible\" id=\"glyph2-1\">\n",
       "<path style=\"stroke:none;\" d=\"M -2.9375 -1.484375 C -2.601562 -1.484375 -2.296875 -1.503906 -2.015625 -1.546875 C -1.734375 -1.597656 -1.488281 -1.679688 -1.28125 -1.796875 C -1.082031 -1.910156 -0.925781 -2.0625 -0.8125 -2.25 C -0.707031 -2.4375 -0.65625 -2.664062 -0.65625 -2.9375 C -0.65625 -3.28125 -0.75 -3.566406 -0.9375 -3.796875 C -1.125 -4.035156 -1.410156 -4.179688 -1.796875 -4.234375 L -1.734375 -5.203125 C -1.492188 -5.171875 -1.257812 -5.101562 -1.03125 -5 C -0.8125 -4.894531 -0.617188 -4.75 -0.453125 -4.5625 C -0.285156 -4.375 -0.148438 -4.144531 -0.046875 -3.875 C 0.0546875 -3.613281 0.109375 -3.3125 0.109375 -2.96875 C 0.109375 -2.507812 0.03125 -2.117188 -0.125 -1.796875 C -0.28125 -1.484375 -0.492188 -1.226562 -0.765625 -1.03125 C -1.035156 -0.832031 -1.351562 -0.6875 -1.71875 -0.59375 C -2.082031 -0.507812 -2.476562 -0.46875 -2.90625 -0.46875 C -3.300781 -0.46875 -3.644531 -0.5 -3.9375 -0.5625 C -4.238281 -0.625 -4.5 -0.710938 -4.71875 -0.828125 C -4.945312 -0.953125 -5.132812 -1.09375 -5.28125 -1.25 C -5.4375 -1.40625 -5.5625 -1.570312 -5.65625 -1.75 C -5.75 -1.9375 -5.816406 -2.128906 -5.859375 -2.328125 C -5.898438 -2.535156 -5.921875 -2.742188 -5.921875 -2.953125 C -5.921875 -3.285156 -5.875 -3.578125 -5.78125 -3.828125 C -5.695312 -4.085938 -5.578125 -4.304688 -5.421875 -4.484375 C -5.265625 -4.671875 -5.078125 -4.820312 -4.859375 -4.9375 C -4.648438 -5.050781 -4.425781 -5.128906 -4.1875 -5.171875 L -4.109375 -4.1875 C -4.429688 -4.132812 -4.6875 -4.003906 -4.875 -3.796875 C -5.0625 -3.597656 -5.15625 -3.3125 -5.15625 -2.9375 C -5.15625 -2.65625 -5.109375 -2.421875 -5.015625 -2.234375 C -4.929688 -2.054688 -4.796875 -1.910156 -4.609375 -1.796875 C -4.421875 -1.679688 -4.1875 -1.597656 -3.90625 -1.546875 C -3.632812 -1.503906 -3.3125 -1.484375 -2.9375 -1.484375 Z M -2.9375 -1.484375 \"/>\n",
       "</symbol>\n",
       "<symbol overflow=\"visible\" id=\"glyph2-2\">\n",
       "<path style=\"stroke:none;\" d=\"M -2.90625 -5.65625 C -1.894531 -5.65625 -1.140625 -5.429688 -0.640625 -4.984375 C -0.140625 -4.535156 0.109375 -3.882812 0.109375 -3.03125 C 0.109375 -2.625 0.046875 -2.257812 -0.078125 -1.9375 C -0.203125 -1.625 -0.390625 -1.359375 -0.640625 -1.140625 C -0.890625 -0.921875 -1.203125 -0.753906 -1.578125 -0.640625 C -1.953125 -0.523438 -2.394531 -0.46875 -2.90625 -0.46875 C -4.914062 -0.46875 -5.921875 -1.332031 -5.921875 -3.0625 C -5.921875 -3.519531 -5.859375 -3.910156 -5.734375 -4.234375 C -5.609375 -4.566406 -5.421875 -4.835938 -5.171875 -5.046875 C -4.921875 -5.253906 -4.601562 -5.40625 -4.21875 -5.5 C -3.84375 -5.601562 -3.40625 -5.65625 -2.90625 -5.65625 Z M -2.90625 -4.640625 C -3.363281 -4.640625 -3.738281 -4.601562 -4.03125 -4.53125 C -4.320312 -4.46875 -4.554688 -4.367188 -4.734375 -4.234375 C -4.910156 -4.097656 -5.03125 -3.929688 -5.09375 -3.734375 C -5.164062 -3.546875 -5.203125 -3.328125 -5.203125 -3.078125 C -5.203125 -2.835938 -5.164062 -2.613281 -5.09375 -2.40625 C -5.019531 -2.207031 -4.894531 -2.039062 -4.71875 -1.90625 C -4.539062 -1.769531 -4.304688 -1.664062 -4.015625 -1.59375 C -3.722656 -1.519531 -3.351562 -1.484375 -2.90625 -1.484375 C -2.457031 -1.484375 -2.082031 -1.519531 -1.78125 -1.59375 C -1.488281 -1.675781 -1.253906 -1.785156 -1.078125 -1.921875 C -0.910156 -2.054688 -0.789062 -2.21875 -0.71875 -2.40625 C -0.644531 -2.59375 -0.609375 -2.800781 -0.609375 -3.03125 C -0.609375 -3.269531 -0.640625 -3.488281 -0.703125 -3.6875 C -0.773438 -3.894531 -0.898438 -4.066406 -1.078125 -4.203125 C -1.253906 -4.347656 -1.488281 -4.457031 -1.78125 -4.53125 C -2.082031 -4.601562 -2.457031 -4.640625 -2.90625 -4.640625 Z M -2.90625 -4.640625 \"/>\n",
       "</symbol>\n",
       "<symbol overflow=\"visible\" id=\"glyph2-3\">\n",
       "<path style=\"stroke:none;\" d=\"M -5.8125 -1.6875 L -2.125 -1.6875 C -1.84375 -1.6875 -1.609375 -1.707031 -1.421875 -1.75 C -1.234375 -1.789062 -1.078125 -1.859375 -0.953125 -1.953125 C -0.835938 -2.046875 -0.753906 -2.164062 -0.703125 -2.3125 C -0.660156 -2.46875 -0.640625 -2.660156 -0.640625 -2.890625 C -0.640625 -3.117188 -0.675781 -3.320312 -0.75 -3.5 C -0.832031 -3.6875 -0.953125 -3.84375 -1.109375 -3.96875 C -1.265625 -4.101562 -1.453125 -4.207031 -1.671875 -4.28125 C -1.898438 -4.351562 -2.15625 -4.390625 -2.4375 -4.390625 L -5.8125 -4.390625 L -5.8125 -5.359375 L -1.234375 -5.359375 C -1.117188 -5.359375 -0.992188 -5.359375 -0.859375 -5.359375 C -0.722656 -5.359375 -0.59375 -5.359375 -0.46875 -5.359375 C -0.351562 -5.367188 -0.25 -5.375 -0.15625 -5.375 C -0.0703125 -5.375 -0.0195312 -5.378906 0 -5.390625 L 0 -4.46875 C -0.0195312 -4.46875 -0.0664062 -4.460938 -0.140625 -4.453125 C -0.222656 -4.453125 -0.3125 -4.445312 -0.40625 -4.4375 C -0.507812 -4.4375 -0.613281 -4.4375 -0.71875 -4.4375 C -0.832031 -4.4375 -0.925781 -4.4375 -1 -4.4375 L -1 -4.421875 C -0.820312 -4.328125 -0.664062 -4.222656 -0.53125 -4.109375 C -0.394531 -3.992188 -0.28125 -3.863281 -0.1875 -3.71875 C -0.09375 -3.570312 -0.0195312 -3.40625 0.03125 -3.21875 C 0.0820312 -3.03125 0.109375 -2.8125 0.109375 -2.5625 C 0.109375 -2.238281 0.0703125 -1.957031 0 -1.71875 C -0.0820312 -1.488281 -0.207031 -1.296875 -0.375 -1.140625 C -0.539062 -0.992188 -0.75 -0.882812 -1 -0.8125 C -1.257812 -0.75 -1.570312 -0.71875 -1.9375 -0.71875 L -5.8125 -0.71875 Z M -5.8125 -1.6875 \"/>\n",
       "</symbol>\n",
       "<symbol overflow=\"visible\" id=\"glyph2-4\">\n",
       "<path style=\"stroke:none;\" d=\"M 0 -4.4375 L -3.6875 -4.4375 C -3.96875 -4.4375 -4.203125 -4.414062 -4.390625 -4.375 C -4.578125 -4.332031 -4.726562 -4.265625 -4.84375 -4.171875 C -4.96875 -4.078125 -5.050781 -3.953125 -5.09375 -3.796875 C -5.144531 -3.648438 -5.171875 -3.460938 -5.171875 -3.234375 C -5.171875 -3.003906 -5.128906 -2.796875 -5.046875 -2.609375 C -4.972656 -2.429688 -4.859375 -2.273438 -4.703125 -2.140625 C -4.546875 -2.003906 -4.351562 -1.898438 -4.125 -1.828125 C -3.90625 -1.765625 -3.65625 -1.734375 -3.375 -1.734375 L 0 -1.734375 L 0 -0.765625 L -4.578125 -0.765625 C -4.691406 -0.765625 -4.816406 -0.757812 -4.953125 -0.75 C -5.085938 -0.75 -5.210938 -0.75 -5.328125 -0.75 C -5.453125 -0.75 -5.554688 -0.742188 -5.640625 -0.734375 C -5.734375 -0.734375 -5.789062 -0.734375 -5.8125 -0.734375 L -5.8125 -1.640625 C -5.789062 -1.648438 -5.738281 -1.65625 -5.65625 -1.65625 C -5.582031 -1.65625 -5.492188 -1.65625 -5.390625 -1.65625 C -5.296875 -1.664062 -5.191406 -1.671875 -5.078125 -1.671875 C -4.972656 -1.679688 -4.882812 -1.6875 -4.8125 -1.6875 L -4.8125 -1.703125 C -4.988281 -1.796875 -5.144531 -1.894531 -5.28125 -2 C -5.414062 -2.113281 -5.53125 -2.242188 -5.625 -2.390625 C -5.71875 -2.535156 -5.789062 -2.703125 -5.84375 -2.890625 C -5.894531 -3.085938 -5.921875 -3.3125 -5.921875 -3.5625 C -5.921875 -3.882812 -5.878906 -4.160156 -5.796875 -4.390625 C -5.722656 -4.628906 -5.601562 -4.820312 -5.4375 -4.96875 C -5.269531 -5.113281 -5.054688 -5.222656 -4.796875 -5.296875 C -4.535156 -5.367188 -4.226562 -5.40625 -3.875 -5.40625 L 0 -5.40625 Z M 0 -4.4375 \"/>\n",
       "</symbol>\n",
       "<symbol overflow=\"visible\" id=\"glyph2-5\">\n",
       "<path style=\"stroke:none;\" d=\"M -0.046875 -2.96875 C -0.00390625 -2.820312 0.0234375 -2.671875 0.046875 -2.515625 C 0.078125 -2.367188 0.09375 -2.195312 0.09375 -2 C 0.09375 -1.226562 -0.347656 -0.84375 -1.234375 -0.84375 L -5.109375 -0.84375 L -5.109375 -0.171875 L -5.8125 -0.171875 L -5.8125 -0.875 L -7.109375 -1.15625 L -7.109375 -1.8125 L -5.8125 -1.8125 L -5.8125 -2.875 L -5.109375 -2.875 L -5.109375 -1.8125 L -1.4375 -1.8125 C -1.15625 -1.8125 -0.957031 -1.851562 -0.84375 -1.9375 C -0.738281 -2.03125 -0.6875 -2.191406 -0.6875 -2.421875 C -0.6875 -2.515625 -0.691406 -2.601562 -0.703125 -2.6875 C -0.710938 -2.769531 -0.726562 -2.863281 -0.75 -2.96875 Z M -0.046875 -2.96875 \"/>\n",
       "</symbol>\n",
       "<symbol overflow=\"visible\" id=\"glyph3-0\">\n",
       "<path style=\"stroke:none;\" d=\"M 0.4375 0 L 0.4375 -8.796875 L 3.953125 -8.796875 L 3.953125 0 Z M 0.875 -0.4375 L 3.5 -0.4375 L 3.5 -8.359375 L 0.875 -8.359375 Z M 0.875 -0.4375 \"/>\n",
       "</symbol>\n",
       "<symbol overflow=\"visible\" id=\"glyph3-1\">\n",
       "<path style=\"stroke:none;\" d=\"M 8.109375 -6.34375 C 8.109375 -5.945312 8.039062 -5.578125 7.90625 -5.234375 C 7.78125 -4.898438 7.585938 -4.609375 7.328125 -4.359375 C 7.066406 -4.109375 6.738281 -3.910156 6.34375 -3.765625 C 5.957031 -3.617188 5.503906 -3.546875 4.984375 -3.546875 L 2.3125 -3.546875 L 2.3125 0 L 1.078125 0 L 1.078125 -9.078125 L 4.90625 -9.078125 C 5.445312 -9.078125 5.914062 -9.007812 6.3125 -8.875 C 6.707031 -8.75 7.035156 -8.566406 7.296875 -8.328125 C 7.566406 -8.085938 7.769531 -7.800781 7.90625 -7.46875 C 8.039062 -7.132812 8.109375 -6.757812 8.109375 -6.34375 Z M 6.875 -6.34375 C 6.875 -6.914062 6.695312 -7.347656 6.34375 -7.640625 C 5.988281 -7.941406 5.457031 -8.09375 4.75 -8.09375 L 2.3125 -8.09375 L 2.3125 -4.515625 L 4.8125 -4.515625 C 5.519531 -4.515625 6.039062 -4.671875 6.375 -4.984375 C 6.707031 -5.296875 6.875 -5.75 6.875 -6.34375 Z M 6.875 -6.34375 \"/>\n",
       "</symbol>\n",
       "<symbol overflow=\"visible\" id=\"glyph3-2\">\n",
       "<path style=\"stroke:none;\" d=\"M 0.921875 0 L 0.921875 -5.34375 C 0.921875 -5.488281 0.914062 -5.640625 0.90625 -5.796875 C 0.90625 -5.953125 0.898438 -6.097656 0.890625 -6.234375 C 0.890625 -6.378906 0.890625 -6.515625 0.890625 -6.640625 C 0.890625 -6.765625 0.882812 -6.875 0.875 -6.96875 L 1.96875 -6.96875 C 1.976562 -6.875 1.984375 -6.765625 1.984375 -6.640625 C 1.992188 -6.515625 2 -6.382812 2 -6.25 C 2.007812 -6.113281 2.015625 -5.984375 2.015625 -5.859375 C 2.023438 -5.734375 2.03125 -5.628906 2.03125 -5.546875 L 2.046875 -5.546875 C 2.128906 -5.816406 2.21875 -6.046875 2.3125 -6.234375 C 2.40625 -6.429688 2.515625 -6.59375 2.640625 -6.71875 C 2.765625 -6.851562 2.910156 -6.953125 3.078125 -7.015625 C 3.253906 -7.078125 3.460938 -7.109375 3.703125 -7.109375 C 3.796875 -7.109375 3.882812 -7.097656 3.96875 -7.078125 C 4.0625 -7.066406 4.128906 -7.054688 4.171875 -7.046875 L 4.171875 -5.96875 C 4.097656 -6 4.007812 -6.019531 3.90625 -6.03125 C 3.800781 -6.039062 3.6875 -6.046875 3.5625 -6.046875 C 3.289062 -6.046875 3.0625 -5.984375 2.875 -5.859375 C 2.6875 -5.734375 2.535156 -5.566406 2.421875 -5.359375 C 2.304688 -5.148438 2.21875 -4.894531 2.15625 -4.59375 C 2.101562 -4.300781 2.078125 -3.984375 2.078125 -3.640625 L 2.078125 0 Z M 0.921875 0 \"/>\n",
       "</symbol>\n",
       "<symbol overflow=\"visible\" id=\"glyph3-3\">\n",
       "<path style=\"stroke:none;\" d=\"M 1.78125 -3.25 C 1.78125 -2.875 1.816406 -2.53125 1.890625 -2.21875 C 1.960938 -1.914062 2.078125 -1.65625 2.234375 -1.4375 C 2.390625 -1.21875 2.585938 -1.046875 2.828125 -0.921875 C 3.078125 -0.796875 3.375 -0.734375 3.71875 -0.734375 C 4.226562 -0.734375 4.632812 -0.832031 4.9375 -1.03125 C 5.238281 -1.238281 5.441406 -1.5 5.546875 -1.8125 L 6.5625 -1.515625 C 6.488281 -1.328125 6.382812 -1.132812 6.25 -0.9375 C 6.125 -0.738281 5.953125 -0.5625 5.734375 -0.40625 C 5.515625 -0.25 5.238281 -0.117188 4.90625 -0.015625 C 4.582031 0.078125 4.1875 0.125 3.71875 0.125 C 2.6875 0.125 1.898438 -0.179688 1.359375 -0.796875 C 0.828125 -1.410156 0.5625 -2.320312 0.5625 -3.53125 C 0.5625 -4.1875 0.640625 -4.738281 0.796875 -5.1875 C 0.960938 -5.644531 1.1875 -6.015625 1.46875 -6.296875 C 1.757812 -6.578125 2.09375 -6.78125 2.46875 -6.90625 C 2.84375 -7.039062 3.25 -7.109375 3.6875 -7.109375 C 4.269531 -7.109375 4.753906 -7.007812 5.140625 -6.8125 C 5.535156 -6.625 5.851562 -6.363281 6.09375 -6.03125 C 6.332031 -5.695312 6.5 -5.304688 6.59375 -4.859375 C 6.695312 -4.410156 6.75 -3.921875 6.75 -3.390625 L 6.75 -3.25 Z M 5.5625 -4.125 C 5.488281 -4.863281 5.296875 -5.398438 4.984375 -5.734375 C 4.679688 -6.078125 4.238281 -6.25 3.65625 -6.25 C 3.46875 -6.25 3.265625 -6.21875 3.046875 -6.15625 C 2.835938 -6.09375 2.640625 -5.976562 2.453125 -5.8125 C 2.273438 -5.65625 2.125 -5.441406 2 -5.171875 C 1.875 -4.898438 1.804688 -4.550781 1.796875 -4.125 Z M 5.5625 -4.125 \"/>\n",
       "</symbol>\n",
       "<symbol overflow=\"visible\" id=\"glyph3-4\">\n",
       "<path style=\"stroke:none;\" d=\"M 0.890625 0 L 0.890625 -9.5625 L 2.046875 -9.5625 L 2.046875 0 Z M 0.890625 0 \"/>\n",
       "</symbol>\n",
       "<symbol overflow=\"visible\" id=\"glyph3-5\">\n",
       "<path style=\"stroke:none;\" d=\"M 0.890625 -8.453125 L 0.890625 -9.5625 L 2.046875 -9.5625 L 2.046875 -8.453125 Z M 0.890625 0 L 0.890625 -6.96875 L 2.046875 -6.96875 L 2.046875 0 Z M 0.890625 0 \"/>\n",
       "</symbol>\n",
       "<symbol overflow=\"visible\" id=\"glyph3-6\">\n",
       "<path style=\"stroke:none;\" d=\"M 4.953125 0 L 4.953125 -4.421875 C 4.953125 -4.765625 4.929688 -5.046875 4.890625 -5.265625 C 4.847656 -5.492188 4.773438 -5.675781 4.671875 -5.8125 C 4.566406 -5.957031 4.429688 -6.054688 4.265625 -6.109375 C 4.109375 -6.171875 3.910156 -6.203125 3.671875 -6.203125 C 3.429688 -6.203125 3.210938 -6.15625 3.015625 -6.0625 C 2.816406 -5.96875 2.644531 -5.828125 2.5 -5.640625 C 2.363281 -5.460938 2.253906 -5.238281 2.171875 -4.96875 C 2.097656 -4.695312 2.0625 -4.390625 2.0625 -4.046875 L 2.0625 0 L 0.921875 0 L 0.921875 -5.484375 C 0.921875 -5.628906 0.914062 -5.78125 0.90625 -5.9375 C 0.90625 -6.101562 0.898438 -6.257812 0.890625 -6.40625 C 0.890625 -6.550781 0.890625 -6.675781 0.890625 -6.78125 C 0.890625 -6.882812 0.882812 -6.945312 0.875 -6.96875 L 1.96875 -6.96875 C 1.976562 -6.945312 1.984375 -6.890625 1.984375 -6.796875 C 1.984375 -6.703125 1.988281 -6.59375 2 -6.46875 C 2.007812 -6.351562 2.015625 -6.226562 2.015625 -6.09375 C 2.023438 -5.96875 2.03125 -5.863281 2.03125 -5.78125 L 2.046875 -5.78125 C 2.148438 -5.976562 2.257812 -6.160156 2.375 -6.328125 C 2.5 -6.492188 2.640625 -6.632812 2.796875 -6.75 C 2.960938 -6.863281 3.148438 -6.953125 3.359375 -7.015625 C 3.566406 -7.078125 3.804688 -7.109375 4.078125 -7.109375 C 4.609375 -7.109375 5.023438 -7 5.328125 -6.78125 C 5.640625 -6.570312 5.851562 -6.238281 5.96875 -5.78125 L 6 -5.78125 C 6.101562 -5.976562 6.21875 -6.160156 6.34375 -6.328125 C 6.46875 -6.492188 6.613281 -6.632812 6.78125 -6.75 C 6.957031 -6.863281 7.15625 -6.953125 7.375 -7.015625 C 7.59375 -7.078125 7.835938 -7.109375 8.109375 -7.109375 C 8.460938 -7.109375 8.765625 -7.0625 9.015625 -6.96875 C 9.273438 -6.875 9.484375 -6.726562 9.640625 -6.53125 C 9.804688 -6.332031 9.925781 -6.078125 10 -5.765625 C 10.082031 -5.453125 10.125 -5.078125 10.125 -4.640625 L 10.125 0 L 8.984375 0 L 8.984375 -4.421875 C 8.984375 -4.765625 8.957031 -5.046875 8.90625 -5.265625 C 8.863281 -5.492188 8.789062 -5.675781 8.6875 -5.8125 C 8.59375 -5.957031 8.460938 -6.054688 8.296875 -6.109375 C 8.140625 -6.171875 7.941406 -6.203125 7.703125 -6.203125 C 7.460938 -6.203125 7.242188 -6.15625 7.046875 -6.0625 C 6.847656 -5.976562 6.675781 -5.84375 6.53125 -5.65625 C 6.394531 -5.476562 6.285156 -5.253906 6.203125 -4.984375 C 6.128906 -4.710938 6.09375 -4.398438 6.09375 -4.046875 L 6.09375 0 Z M 4.953125 0 \"/>\n",
       "</symbol>\n",
       "<symbol overflow=\"visible\" id=\"glyph3-7\">\n",
       "<path style=\"stroke:none;\" d=\"M 5.3125 0 L 5.3125 -4.421875 C 5.3125 -4.765625 5.285156 -5.046875 5.234375 -5.265625 C 5.191406 -5.492188 5.113281 -5.675781 5 -5.8125 C 4.882812 -5.957031 4.734375 -6.054688 4.546875 -6.109375 C 4.367188 -6.171875 4.144531 -6.203125 3.875 -6.203125 C 3.601562 -6.203125 3.351562 -6.15625 3.125 -6.0625 C 2.90625 -5.96875 2.71875 -5.828125 2.5625 -5.640625 C 2.40625 -5.460938 2.285156 -5.238281 2.203125 -4.96875 C 2.117188 -4.695312 2.078125 -4.390625 2.078125 -4.046875 L 2.078125 0 L 0.921875 0 L 0.921875 -5.484375 C 0.921875 -5.628906 0.914062 -5.78125 0.90625 -5.9375 C 0.90625 -6.101562 0.898438 -6.257812 0.890625 -6.40625 C 0.890625 -6.550781 0.890625 -6.675781 0.890625 -6.78125 C 0.890625 -6.882812 0.882812 -6.945312 0.875 -6.96875 L 1.96875 -6.96875 C 1.976562 -6.945312 1.984375 -6.890625 1.984375 -6.796875 C 1.984375 -6.703125 1.988281 -6.59375 2 -6.46875 C 2.007812 -6.351562 2.015625 -6.226562 2.015625 -6.09375 C 2.023438 -5.96875 2.03125 -5.863281 2.03125 -5.78125 L 2.046875 -5.78125 C 2.160156 -5.976562 2.28125 -6.160156 2.40625 -6.328125 C 2.539062 -6.492188 2.695312 -6.632812 2.875 -6.75 C 3.050781 -6.863281 3.253906 -6.953125 3.484375 -7.015625 C 3.710938 -7.078125 3.976562 -7.109375 4.28125 -7.109375 C 4.664062 -7.109375 4.992188 -7.0625 5.265625 -6.96875 C 5.546875 -6.875 5.773438 -6.726562 5.953125 -6.53125 C 6.140625 -6.332031 6.273438 -6.078125 6.359375 -5.765625 C 6.441406 -5.453125 6.484375 -5.078125 6.484375 -4.640625 L 6.484375 0 Z M 5.3125 0 \"/>\n",
       "</symbol>\n",
       "<symbol overflow=\"visible\" id=\"glyph3-8\">\n",
       "<path style=\"stroke:none;\" d=\"M 2.671875 0.125 C 1.972656 0.125 1.445312 -0.0546875 1.09375 -0.421875 C 0.738281 -0.796875 0.5625 -1.304688 0.5625 -1.953125 C 0.5625 -2.410156 0.644531 -2.785156 0.8125 -3.078125 C 0.988281 -3.367188 1.21875 -3.597656 1.5 -3.765625 C 1.78125 -3.929688 2.101562 -4.046875 2.46875 -4.109375 C 2.832031 -4.179688 3.203125 -4.222656 3.578125 -4.234375 L 5.140625 -4.25 L 5.140625 -4.640625 C 5.140625 -4.921875 5.109375 -5.160156 5.046875 -5.359375 C 4.984375 -5.566406 4.890625 -5.734375 4.765625 -5.859375 C 4.640625 -5.984375 4.484375 -6.070312 4.296875 -6.125 C 4.109375 -6.1875 3.890625 -6.21875 3.640625 -6.21875 C 3.421875 -6.21875 3.21875 -6.203125 3.03125 -6.171875 C 2.851562 -6.140625 2.695312 -6.082031 2.5625 -6 C 2.425781 -5.914062 2.316406 -5.800781 2.234375 -5.65625 C 2.160156 -5.507812 2.109375 -5.328125 2.078125 -5.109375 L 0.875 -5.21875 C 0.914062 -5.5 0.992188 -5.753906 1.109375 -5.984375 C 1.234375 -6.210938 1.40625 -6.410156 1.625 -6.578125 C 1.84375 -6.742188 2.117188 -6.875 2.453125 -6.96875 C 2.785156 -7.0625 3.191406 -7.109375 3.671875 -7.109375 C 4.546875 -7.109375 5.203125 -6.90625 5.640625 -6.5 C 6.085938 -6.101562 6.3125 -5.519531 6.3125 -4.75 L 6.3125 -1.75 C 6.3125 -1.40625 6.351562 -1.144531 6.4375 -0.96875 C 6.53125 -0.800781 6.707031 -0.71875 6.96875 -0.71875 C 7.03125 -0.71875 7.09375 -0.71875 7.15625 -0.71875 C 7.21875 -0.726562 7.28125 -0.742188 7.34375 -0.765625 L 7.34375 -0.03125 C 7.195312 0 7.050781 0.0195312 6.90625 0.03125 C 6.757812 0.0507812 6.609375 0.0625 6.453125 0.0625 C 6.234375 0.0625 6.039062 0.0351562 5.875 -0.015625 C 5.71875 -0.078125 5.585938 -0.164062 5.484375 -0.28125 C 5.390625 -0.40625 5.316406 -0.550781 5.265625 -0.71875 C 5.222656 -0.894531 5.191406 -1.097656 5.171875 -1.328125 L 5.140625 -1.328125 C 5.015625 -1.109375 4.875 -0.90625 4.71875 -0.71875 C 4.570312 -0.539062 4.398438 -0.390625 4.203125 -0.265625 C 4.003906 -0.140625 3.78125 -0.046875 3.53125 0.015625 C 3.28125 0.0859375 2.992188 0.125 2.671875 0.125 Z M 2.9375 -0.734375 C 3.300781 -0.734375 3.617188 -0.800781 3.890625 -0.9375 C 4.171875 -1.070312 4.40625 -1.242188 4.59375 -1.453125 C 4.78125 -1.671875 4.914062 -1.90625 5 -2.15625 C 5.09375 -2.40625 5.140625 -2.644531 5.140625 -2.875 L 5.140625 -3.4375 L 3.875 -3.421875 C 3.582031 -3.410156 3.304688 -3.382812 3.046875 -3.34375 C 2.796875 -3.3125 2.570312 -3.242188 2.375 -3.140625 C 2.1875 -3.035156 2.035156 -2.882812 1.921875 -2.6875 C 1.804688 -2.488281 1.75 -2.234375 1.75 -1.921875 C 1.75 -1.546875 1.847656 -1.253906 2.046875 -1.046875 C 2.253906 -0.835938 2.550781 -0.734375 2.9375 -0.734375 Z M 2.9375 -0.734375 \"/>\n",
       "</symbol>\n",
       "<symbol overflow=\"visible\" id=\"glyph3-9\">\n",
       "<path style=\"stroke:none;\" d=\"M 3.890625 0 C 3.734375 0.414062 3.566406 0.789062 3.390625 1.125 C 3.222656 1.46875 3.035156 1.757812 2.828125 2 C 2.617188 2.238281 2.382812 2.421875 2.125 2.546875 C 1.863281 2.671875 1.566406 2.734375 1.234375 2.734375 C 1.085938 2.734375 0.953125 2.726562 0.828125 2.71875 C 0.703125 2.71875 0.570312 2.703125 0.4375 2.671875 L 0.4375 1.796875 C 0.507812 1.804688 0.597656 1.816406 0.703125 1.828125 C 0.804688 1.835938 0.894531 1.84375 0.96875 1.84375 C 1.3125 1.84375 1.628906 1.710938 1.921875 1.453125 C 2.210938 1.203125 2.46875 0.800781 2.6875 0.25 L 2.796875 -0.03125 L 0.03125 -6.96875 L 1.265625 -6.96875 L 2.734375 -3.125 C 2.773438 -3.007812 2.828125 -2.851562 2.890625 -2.65625 C 2.960938 -2.457031 3.03125 -2.257812 3.09375 -2.0625 C 3.164062 -1.875 3.226562 -1.703125 3.28125 -1.546875 C 3.332031 -1.398438 3.363281 -1.304688 3.375 -1.265625 C 3.382812 -1.304688 3.414062 -1.394531 3.46875 -1.53125 C 3.519531 -1.675781 3.570312 -1.832031 3.625 -2 C 3.6875 -2.175781 3.75 -2.351562 3.8125 -2.53125 C 3.882812 -2.707031 3.941406 -2.859375 3.984375 -2.984375 L 5.34375 -6.96875 L 6.578125 -6.96875 Z M 3.890625 0 \"/>\n",
       "</symbol>\n",
       "<symbol overflow=\"visible\" id=\"glyph3-10\">\n",
       "<path style=\"stroke:none;\" d=\"\"/>\n",
       "</symbol>\n",
       "<symbol overflow=\"visible\" id=\"glyph3-11\">\n",
       "<path style=\"stroke:none;\" d=\"M 6.78125 -3.515625 C 6.78125 -1.085938 5.925781 0.125 4.21875 0.125 C 3.695312 0.125 3.257812 0.03125 2.90625 -0.15625 C 2.550781 -0.34375 2.265625 -0.648438 2.046875 -1.078125 L 2.03125 -1.078125 C 2.03125 -0.972656 2.023438 -0.859375 2.015625 -0.734375 C 2.015625 -0.609375 2.007812 -0.492188 2 -0.390625 C 2 -0.296875 1.992188 -0.210938 1.984375 -0.140625 C 1.984375 -0.0664062 1.976562 -0.0195312 1.96875 0 L 0.84375 0 C 0.851562 -0.0390625 0.859375 -0.101562 0.859375 -0.1875 C 0.867188 -0.28125 0.875 -0.390625 0.875 -0.515625 C 0.882812 -0.648438 0.890625 -0.796875 0.890625 -0.953125 C 0.890625 -1.109375 0.890625 -1.269531 0.890625 -1.4375 L 0.890625 -9.5625 L 2.046875 -9.5625 L 2.046875 -6.84375 C 2.046875 -6.707031 2.046875 -6.582031 2.046875 -6.46875 C 2.046875 -6.351562 2.039062 -6.25 2.03125 -6.15625 C 2.03125 -6.050781 2.03125 -5.953125 2.03125 -5.859375 L 2.046875 -5.859375 C 2.265625 -6.304688 2.550781 -6.625 2.90625 -6.8125 C 3.257812 -7.007812 3.695312 -7.109375 4.21875 -7.109375 C 5.101562 -7.109375 5.75 -6.8125 6.15625 -6.21875 C 6.570312 -5.625 6.78125 -4.722656 6.78125 -3.515625 Z M 5.5625 -3.484375 C 5.5625 -3.960938 5.53125 -4.375 5.46875 -4.71875 C 5.414062 -5.0625 5.320312 -5.34375 5.1875 -5.5625 C 5.050781 -5.789062 4.878906 -5.953125 4.671875 -6.046875 C 4.472656 -6.148438 4.222656 -6.203125 3.921875 -6.203125 C 3.617188 -6.203125 3.347656 -6.148438 3.109375 -6.046875 C 2.878906 -5.953125 2.6875 -5.796875 2.53125 -5.578125 C 2.375 -5.359375 2.253906 -5.070312 2.171875 -4.71875 C 2.085938 -4.363281 2.046875 -3.925781 2.046875 -3.40625 C 2.046875 -2.90625 2.085938 -2.484375 2.171875 -2.140625 C 2.253906 -1.804688 2.375 -1.53125 2.53125 -1.3125 C 2.6875 -1.101562 2.878906 -0.953125 3.109375 -0.859375 C 3.347656 -0.773438 3.613281 -0.734375 3.90625 -0.734375 C 4.195312 -0.734375 4.441406 -0.78125 4.640625 -0.875 C 4.847656 -0.976562 5.019531 -1.140625 5.15625 -1.359375 C 5.300781 -1.578125 5.40625 -1.859375 5.46875 -2.203125 C 5.53125 -2.554688 5.5625 -2.984375 5.5625 -3.484375 Z M 5.5625 -3.484375 \"/>\n",
       "</symbol>\n",
       "<symbol overflow=\"visible\" id=\"glyph3-12\">\n",
       "<path style=\"stroke:none;\" d=\"M 6.78125 -3.515625 C 6.78125 -2.992188 6.738281 -2.507812 6.65625 -2.0625 C 6.570312 -1.613281 6.429688 -1.226562 6.234375 -0.90625 C 6.035156 -0.582031 5.769531 -0.328125 5.4375 -0.140625 C 5.101562 0.0351562 4.695312 0.125 4.21875 0.125 C 3.71875 0.125 3.28125 0.03125 2.90625 -0.15625 C 2.539062 -0.34375 2.257812 -0.648438 2.0625 -1.078125 L 2.03125 -1.078125 C 2.03125 -1.066406 2.03125 -1.023438 2.03125 -0.953125 C 2.03125 -0.890625 2.03125 -0.804688 2.03125 -0.703125 C 2.039062 -0.597656 2.046875 -0.484375 2.046875 -0.359375 C 2.046875 -0.234375 2.046875 -0.109375 2.046875 0.015625 L 2.046875 2.734375 L 0.890625 2.734375 L 0.890625 -5.546875 C 0.890625 -5.710938 0.890625 -5.875 0.890625 -6.03125 C 0.890625 -6.1875 0.882812 -6.328125 0.875 -6.453125 C 0.875 -6.578125 0.867188 -6.6875 0.859375 -6.78125 C 0.859375 -6.875 0.851562 -6.9375 0.84375 -6.96875 L 1.96875 -6.96875 C 1.976562 -6.957031 1.984375 -6.910156 1.984375 -6.828125 C 1.992188 -6.753906 2 -6.660156 2 -6.546875 C 2.007812 -6.441406 2.015625 -6.328125 2.015625 -6.203125 C 2.023438 -6.078125 2.03125 -5.960938 2.03125 -5.859375 L 2.0625 -5.859375 C 2.164062 -6.078125 2.285156 -6.265625 2.421875 -6.421875 C 2.566406 -6.578125 2.726562 -6.707031 2.90625 -6.8125 C 3.082031 -6.914062 3.273438 -6.988281 3.484375 -7.03125 C 3.703125 -7.070312 3.945312 -7.09375 4.21875 -7.09375 C 4.695312 -7.09375 5.101562 -7.003906 5.4375 -6.828125 C 5.769531 -6.660156 6.035156 -6.421875 6.234375 -6.109375 C 6.429688 -5.796875 6.570312 -5.421875 6.65625 -4.984375 C 6.738281 -4.546875 6.78125 -4.054688 6.78125 -3.515625 Z M 5.5625 -3.5 C 5.5625 -3.925781 5.535156 -4.304688 5.484375 -4.640625 C 5.441406 -4.972656 5.351562 -5.253906 5.21875 -5.484375 C 5.09375 -5.722656 4.925781 -5.898438 4.71875 -6.015625 C 4.507812 -6.140625 4.242188 -6.203125 3.921875 -6.203125 C 3.671875 -6.203125 3.429688 -6.164062 3.203125 -6.09375 C 2.972656 -6.019531 2.769531 -5.878906 2.59375 -5.671875 C 2.425781 -5.460938 2.289062 -5.175781 2.1875 -4.8125 C 2.09375 -4.457031 2.046875 -3.988281 2.046875 -3.40625 C 2.046875 -2.90625 2.085938 -2.484375 2.171875 -2.140625 C 2.253906 -1.804688 2.375 -1.53125 2.53125 -1.3125 C 2.6875 -1.101562 2.878906 -0.953125 3.109375 -0.859375 C 3.347656 -0.773438 3.613281 -0.734375 3.90625 -0.734375 C 4.226562 -0.734375 4.492188 -0.796875 4.703125 -0.921875 C 4.921875 -1.046875 5.09375 -1.222656 5.21875 -1.453125 C 5.351562 -1.691406 5.441406 -1.984375 5.484375 -2.328125 C 5.535156 -2.671875 5.5625 -3.0625 5.5625 -3.5 Z M 5.5625 -3.5 \"/>\n",
       "</symbol>\n",
       "<symbol overflow=\"visible\" id=\"glyph3-13\">\n",
       "<path style=\"stroke:none;\" d=\"M 6.78125 -3.5 C 6.78125 -2.269531 6.507812 -1.359375 5.96875 -0.765625 C 5.4375 -0.171875 4.660156 0.125 3.640625 0.125 C 3.148438 0.125 2.710938 0.0507812 2.328125 -0.09375 C 1.953125 -0.238281 1.628906 -0.460938 1.359375 -0.765625 C 1.097656 -1.066406 0.894531 -1.441406 0.75 -1.890625 C 0.613281 -2.347656 0.546875 -2.882812 0.546875 -3.5 C 0.546875 -5.90625 1.59375 -7.109375 3.6875 -7.109375 C 4.226562 -7.109375 4.691406 -7.03125 5.078125 -6.875 C 5.472656 -6.726562 5.796875 -6.503906 6.046875 -6.203125 C 6.296875 -5.898438 6.476562 -5.519531 6.59375 -5.0625 C 6.71875 -4.613281 6.78125 -4.09375 6.78125 -3.5 Z M 5.5625 -3.5 C 5.5625 -4.039062 5.519531 -4.484375 5.4375 -4.828125 C 5.351562 -5.179688 5.226562 -5.460938 5.0625 -5.671875 C 4.90625 -5.890625 4.710938 -6.039062 4.484375 -6.125 C 4.253906 -6.207031 3.992188 -6.25 3.703125 -6.25 C 3.398438 -6.25 3.128906 -6.203125 2.890625 -6.109375 C 2.660156 -6.023438 2.457031 -5.875 2.28125 -5.65625 C 2.113281 -5.445312 1.984375 -5.164062 1.890625 -4.8125 C 1.804688 -4.457031 1.765625 -4.019531 1.765625 -3.5 C 1.765625 -2.957031 1.8125 -2.507812 1.90625 -2.15625 C 2.007812 -1.800781 2.140625 -1.515625 2.296875 -1.296875 C 2.460938 -1.085938 2.660156 -0.941406 2.890625 -0.859375 C 3.117188 -0.773438 3.363281 -0.734375 3.625 -0.734375 C 3.925781 -0.734375 4.195312 -0.773438 4.4375 -0.859375 C 4.675781 -0.941406 4.878906 -1.085938 5.046875 -1.296875 C 5.210938 -1.503906 5.335938 -1.785156 5.421875 -2.140625 C 5.515625 -2.503906 5.5625 -2.957031 5.5625 -3.5 Z M 5.5625 -3.5 \"/>\n",
       "</symbol>\n",
       "<symbol overflow=\"visible\" id=\"glyph3-14\">\n",
       "<path style=\"stroke:none;\" d=\"M 3.578125 -0.046875 C 3.398438 -0.00390625 3.21875 0.03125 3.03125 0.0625 C 2.851562 0.09375 2.640625 0.109375 2.390625 0.109375 C 1.460938 0.109375 1 -0.414062 1 -1.46875 L 1 -6.125 L 0.203125 -6.125 L 0.203125 -6.96875 L 1.046875 -6.96875 L 1.390625 -8.53125 L 2.171875 -8.53125 L 2.171875 -6.96875 L 3.453125 -6.96875 L 3.453125 -6.125 L 2.171875 -6.125 L 2.171875 -1.734375 C 2.171875 -1.390625 2.222656 -1.148438 2.328125 -1.015625 C 2.441406 -0.878906 2.632812 -0.8125 2.90625 -0.8125 C 3.007812 -0.8125 3.113281 -0.820312 3.21875 -0.84375 C 3.332031 -0.863281 3.453125 -0.882812 3.578125 -0.90625 Z M 3.578125 -0.046875 \"/>\n",
       "</symbol>\n",
       "<symbol overflow=\"visible\" id=\"glyph3-15\">\n",
       "<path style=\"stroke:none;\" d=\"M 2.328125 -6.125 L 2.328125 0 L 1.171875 0 L 1.171875 -6.125 L 0.1875 -6.125 L 0.1875 -6.96875 L 1.171875 -6.96875 L 1.171875 -7.765625 C 1.171875 -8.015625 1.191406 -8.25 1.234375 -8.46875 C 1.285156 -8.6875 1.375 -8.875 1.5 -9.03125 C 1.625 -9.195312 1.796875 -9.320312 2.015625 -9.40625 C 2.234375 -9.5 2.519531 -9.546875 2.875 -9.546875 C 3.007812 -9.546875 3.148438 -9.539062 3.296875 -9.53125 C 3.441406 -9.519531 3.570312 -9.503906 3.6875 -9.484375 L 3.6875 -8.59375 C 3.613281 -8.601562 3.523438 -8.613281 3.421875 -8.625 C 3.328125 -8.632812 3.242188 -8.640625 3.171875 -8.640625 C 2.992188 -8.640625 2.847656 -8.613281 2.734375 -8.5625 C 2.628906 -8.519531 2.546875 -8.453125 2.484375 -8.359375 C 2.421875 -8.273438 2.378906 -8.171875 2.359375 -8.046875 C 2.335938 -7.921875 2.328125 -7.769531 2.328125 -7.59375 L 2.328125 -6.96875 L 3.6875 -6.96875 L 3.6875 -6.125 Z M 2.328125 -6.125 \"/>\n",
       "</symbol>\n",
       "<symbol overflow=\"visible\" id=\"glyph3-16\">\n",
       "<path style=\"stroke:none;\" d=\"M 0.65625 -4.578125 C 0.65625 -5.285156 0.75 -5.925781 0.9375 -6.5 C 1.132812 -7.070312 1.421875 -7.554688 1.796875 -7.953125 C 2.179688 -8.359375 2.65625 -8.671875 3.21875 -8.890625 C 3.78125 -9.109375 4.4375 -9.21875 5.1875 -9.21875 C 5.738281 -9.21875 6.222656 -9.164062 6.640625 -9.0625 C 7.066406 -8.96875 7.4375 -8.828125 7.75 -8.640625 C 8.0625 -8.460938 8.320312 -8.238281 8.53125 -7.96875 C 8.75 -7.707031 8.929688 -7.410156 9.078125 -7.078125 L 7.90625 -6.734375 C 7.800781 -6.953125 7.664062 -7.148438 7.5 -7.328125 C 7.34375 -7.515625 7.15625 -7.671875 6.9375 -7.796875 C 6.71875 -7.929688 6.457031 -8.035156 6.15625 -8.109375 C 5.863281 -8.179688 5.53125 -8.21875 5.15625 -8.21875 C 4.601562 -8.21875 4.125 -8.128906 3.71875 -7.953125 C 3.3125 -7.785156 2.972656 -7.539062 2.703125 -7.21875 C 2.441406 -6.90625 2.242188 -6.523438 2.109375 -6.078125 C 1.984375 -5.628906 1.921875 -5.128906 1.921875 -4.578125 C 1.921875 -4.035156 1.988281 -3.535156 2.125 -3.078125 C 2.269531 -2.628906 2.476562 -2.238281 2.75 -1.90625 C 3.03125 -1.582031 3.378906 -1.328125 3.796875 -1.140625 C 4.210938 -0.960938 4.691406 -0.875 5.234375 -0.875 C 5.597656 -0.875 5.925781 -0.898438 6.21875 -0.953125 C 6.519531 -1.015625 6.789062 -1.09375 7.03125 -1.1875 C 7.28125 -1.289062 7.5 -1.398438 7.6875 -1.515625 C 7.875 -1.640625 8.03125 -1.757812 8.15625 -1.875 L 8.15625 -3.515625 L 5.4375 -3.515625 L 5.4375 -4.546875 L 9.28125 -4.546875 L 9.28125 -1.40625 C 9.082031 -1.207031 8.84375 -1.015625 8.5625 -0.828125 C 8.289062 -0.640625 7.984375 -0.472656 7.640625 -0.328125 C 7.304688 -0.179688 6.9375 -0.0703125 6.53125 0 C 6.132812 0.0820312 5.703125 0.125 5.234375 0.125 C 4.472656 0.125 3.804688 0.0078125 3.234375 -0.21875 C 2.660156 -0.457031 2.179688 -0.785156 1.796875 -1.203125 C 1.421875 -1.617188 1.132812 -2.113281 0.9375 -2.6875 C 0.75 -3.269531 0.65625 -3.898438 0.65625 -4.578125 Z M 0.65625 -4.578125 \"/>\n",
       "</symbol>\n",
       "<symbol overflow=\"visible\" id=\"glyph3-17\">\n",
       "<path style=\"stroke:none;\" d=\"M 5.296875 -1.125 C 5.078125 -0.675781 4.789062 -0.351562 4.4375 -0.15625 C 4.082031 0.03125 3.644531 0.125 3.125 0.125 C 2.238281 0.125 1.585938 -0.171875 1.171875 -0.765625 C 0.753906 -1.359375 0.546875 -2.253906 0.546875 -3.453125 C 0.546875 -5.890625 1.40625 -7.109375 3.125 -7.109375 C 3.644531 -7.109375 4.082031 -7.007812 4.4375 -6.8125 C 4.789062 -6.625 5.078125 -6.316406 5.296875 -5.890625 L 5.3125 -5.890625 C 5.3125 -5.929688 5.304688 -6 5.296875 -6.09375 C 5.296875 -6.1875 5.296875 -6.28125 5.296875 -6.375 C 5.296875 -6.476562 5.296875 -6.578125 5.296875 -6.671875 C 5.296875 -6.765625 5.296875 -6.828125 5.296875 -6.859375 L 5.296875 -9.5625 L 6.453125 -9.5625 L 6.453125 -1.4375 C 6.453125 -1.269531 6.453125 -1.109375 6.453125 -0.953125 C 6.453125 -0.796875 6.453125 -0.648438 6.453125 -0.515625 C 6.460938 -0.390625 6.46875 -0.28125 6.46875 -0.1875 C 6.476562 -0.101562 6.484375 -0.0390625 6.484375 0 L 5.390625 0 C 5.378906 -0.0390625 5.367188 -0.0976562 5.359375 -0.171875 C 5.347656 -0.253906 5.335938 -0.347656 5.328125 -0.453125 C 5.328125 -0.554688 5.320312 -0.664062 5.3125 -0.78125 C 5.3125 -0.894531 5.3125 -1.007812 5.3125 -1.125 Z M 1.765625 -3.5 C 1.765625 -3.007812 1.796875 -2.59375 1.859375 -2.25 C 1.921875 -1.90625 2.019531 -1.625 2.15625 -1.40625 C 2.289062 -1.1875 2.457031 -1.023438 2.65625 -0.921875 C 2.863281 -0.816406 3.117188 -0.765625 3.421875 -0.765625 C 3.722656 -0.765625 3.988281 -0.8125 4.21875 -0.90625 C 4.457031 -1.007812 4.65625 -1.171875 4.8125 -1.390625 C 4.96875 -1.617188 5.085938 -1.910156 5.171875 -2.265625 C 5.253906 -2.617188 5.296875 -3.054688 5.296875 -3.578125 C 5.296875 -4.066406 5.253906 -4.484375 5.171875 -4.828125 C 5.085938 -5.171875 4.96875 -5.445312 4.8125 -5.65625 C 4.65625 -5.863281 4.457031 -6.015625 4.21875 -6.109375 C 3.988281 -6.203125 3.726562 -6.25 3.4375 -6.25 C 3.144531 -6.25 2.894531 -6.195312 2.6875 -6.09375 C 2.488281 -6 2.316406 -5.84375 2.171875 -5.625 C 2.035156 -5.40625 1.929688 -5.117188 1.859375 -4.765625 C 1.796875 -4.410156 1.765625 -3.988281 1.765625 -3.5 Z M 1.765625 -3.5 \"/>\n",
       "</symbol>\n",
       "</g>\n",
       "<clipPath id=\"clip1\">\n",
       "  <path d=\"M 43.152344 23.957031 L 417.84375 23.957031 L 417.84375 471.847656 L 43.152344 471.847656 Z M 43.152344 23.957031 \"/>\n",
       "</clipPath>\n",
       "<clipPath id=\"clip2\">\n",
       "  <path d=\"M 43.152344 402 L 417.84375 402 L 417.84375 404 L 43.152344 404 Z M 43.152344 402 \"/>\n",
       "</clipPath>\n",
       "<clipPath id=\"clip3\">\n",
       "  <path d=\"M 43.152344 306 L 417.84375 306 L 417.84375 308 L 43.152344 308 Z M 43.152344 306 \"/>\n",
       "</clipPath>\n",
       "<clipPath id=\"clip4\">\n",
       "  <path d=\"M 43.152344 210 L 417.84375 210 L 417.84375 211 L 43.152344 211 Z M 43.152344 210 \"/>\n",
       "</clipPath>\n",
       "<clipPath id=\"clip5\">\n",
       "  <path d=\"M 43.152344 113 L 417.84375 113 L 417.84375 115 L 43.152344 115 Z M 43.152344 113 \"/>\n",
       "</clipPath>\n",
       "<clipPath id=\"clip6\">\n",
       "  <path d=\"M 43.152344 450 L 417.84375 450 L 417.84375 453 L 43.152344 453 Z M 43.152344 450 \"/>\n",
       "</clipPath>\n",
       "<clipPath id=\"clip7\">\n",
       "  <path d=\"M 43.152344 354 L 417.84375 354 L 417.84375 356 L 43.152344 356 Z M 43.152344 354 \"/>\n",
       "</clipPath>\n",
       "<clipPath id=\"clip8\">\n",
       "  <path d=\"M 43.152344 258 L 417.84375 258 L 417.84375 260 L 43.152344 260 Z M 43.152344 258 \"/>\n",
       "</clipPath>\n",
       "<clipPath id=\"clip9\">\n",
       "  <path d=\"M 43.152344 161 L 417.84375 161 L 417.84375 163 L 43.152344 163 Z M 43.152344 161 \"/>\n",
       "</clipPath>\n",
       "<clipPath id=\"clip10\">\n",
       "  <path d=\"M 43.152344 65 L 417.84375 65 L 417.84375 67 L 43.152344 67 Z M 43.152344 65 \"/>\n",
       "</clipPath>\n",
       "<clipPath id=\"clip11\">\n",
       "  <path d=\"M 144 23.957031 L 146 23.957031 L 146 471.847656 L 144 471.847656 Z M 144 23.957031 \"/>\n",
       "</clipPath>\n",
       "<clipPath id=\"clip12\">\n",
       "  <path d=\"M 315 23.957031 L 317 23.957031 L 317 471.847656 L 315 471.847656 Z M 315 23.957031 \"/>\n",
       "</clipPath>\n",
       "</defs>\n",
       "<g id=\"surface268\">\n",
       "<rect x=\"0\" y=\"0\" width=\"504\" height=\"504\" style=\"fill:rgb(100%,100%,100%);fill-opacity:1;stroke:none;\"/>\n",
       "<rect x=\"0\" y=\"0\" width=\"504\" height=\"504\" style=\"fill:rgb(100%,100%,100%);fill-opacity:1;stroke:none;\"/>\n",
       "<path style=\"fill:none;stroke-width:1.066978;stroke-linecap:round;stroke-linejoin:round;stroke:rgb(100%,100%,100%);stroke-opacity:1;stroke-miterlimit:10;\" d=\"M 0 504 L 504 504 L 504 0 L 0 0 Z M 0 504 \"/>\n",
       "<g clip-path=\"url(#clip1)\" clip-rule=\"nonzero\">\n",
       "<path style=\" stroke:none;fill-rule:nonzero;fill:rgb(92.156863%,92.156863%,92.156863%);fill-opacity:1;\" d=\"M 43.152344 471.847656 L 417.84375 471.847656 L 417.84375 23.957031 L 43.152344 23.957031 Z M 43.152344 471.847656 \"/>\n",
       "</g>\n",
       "<g clip-path=\"url(#clip2)\" clip-rule=\"nonzero\">\n",
       "<path style=\"fill:none;stroke-width:0.533489;stroke-linecap:butt;stroke-linejoin:round;stroke:rgb(100%,100%,100%);stroke-opacity:1;stroke-miterlimit:10;\" d=\"M 43.152344 403.257812 L 417.84375 403.257812 \"/>\n",
       "</g>\n",
       "<g clip-path=\"url(#clip3)\" clip-rule=\"nonzero\">\n",
       "<path style=\"fill:none;stroke-width:0.533489;stroke-linecap:butt;stroke-linejoin:round;stroke:rgb(100%,100%,100%);stroke-opacity:1;stroke-miterlimit:10;\" d=\"M 43.152344 306.796875 L 417.84375 306.796875 \"/>\n",
       "</g>\n",
       "<g clip-path=\"url(#clip4)\" clip-rule=\"nonzero\">\n",
       "<path style=\"fill:none;stroke-width:0.533489;stroke-linecap:butt;stroke-linejoin:round;stroke:rgb(100%,100%,100%);stroke-opacity:1;stroke-miterlimit:10;\" d=\"M 43.152344 210.332031 L 417.84375 210.332031 \"/>\n",
       "</g>\n",
       "<g clip-path=\"url(#clip5)\" clip-rule=\"nonzero\">\n",
       "<path style=\"fill:none;stroke-width:0.533489;stroke-linecap:butt;stroke-linejoin:round;stroke:rgb(100%,100%,100%);stroke-opacity:1;stroke-miterlimit:10;\" d=\"M 43.152344 113.867188 L 417.84375 113.867188 \"/>\n",
       "</g>\n",
       "<g clip-path=\"url(#clip6)\" clip-rule=\"nonzero\">\n",
       "<path style=\"fill:none;stroke-width:1.066978;stroke-linecap:butt;stroke-linejoin:round;stroke:rgb(100%,100%,100%);stroke-opacity:1;stroke-miterlimit:10;\" d=\"M 43.152344 451.492188 L 417.84375 451.492188 \"/>\n",
       "</g>\n",
       "<g clip-path=\"url(#clip7)\" clip-rule=\"nonzero\">\n",
       "<path style=\"fill:none;stroke-width:1.066978;stroke-linecap:butt;stroke-linejoin:round;stroke:rgb(100%,100%,100%);stroke-opacity:1;stroke-miterlimit:10;\" d=\"M 43.152344 355.027344 L 417.84375 355.027344 \"/>\n",
       "</g>\n",
       "<g clip-path=\"url(#clip8)\" clip-rule=\"nonzero\">\n",
       "<path style=\"fill:none;stroke-width:1.066978;stroke-linecap:butt;stroke-linejoin:round;stroke:rgb(100%,100%,100%);stroke-opacity:1;stroke-miterlimit:10;\" d=\"M 43.152344 258.5625 L 417.84375 258.5625 \"/>\n",
       "</g>\n",
       "<g clip-path=\"url(#clip9)\" clip-rule=\"nonzero\">\n",
       "<path style=\"fill:none;stroke-width:1.066978;stroke-linecap:butt;stroke-linejoin:round;stroke:rgb(100%,100%,100%);stroke-opacity:1;stroke-miterlimit:10;\" d=\"M 43.152344 162.101562 L 417.84375 162.101562 \"/>\n",
       "</g>\n",
       "<g clip-path=\"url(#clip10)\" clip-rule=\"nonzero\">\n",
       "<path style=\"fill:none;stroke-width:1.066978;stroke-linecap:butt;stroke-linejoin:round;stroke:rgb(100%,100%,100%);stroke-opacity:1;stroke-miterlimit:10;\" d=\"M 43.152344 65.636719 L 417.84375 65.636719 \"/>\n",
       "</g>\n",
       "<g clip-path=\"url(#clip11)\" clip-rule=\"nonzero\">\n",
       "<path style=\"fill:none;stroke-width:1.066978;stroke-linecap:butt;stroke-linejoin:round;stroke:rgb(100%,100%,100%);stroke-opacity:1;stroke-miterlimit:10;\" d=\"M 145.339844 471.847656 L 145.339844 23.957031 \"/>\n",
       "</g>\n",
       "<g clip-path=\"url(#clip12)\" clip-rule=\"nonzero\">\n",
       "<path style=\"fill:none;stroke-width:1.066978;stroke-linecap:butt;stroke-linejoin:round;stroke:rgb(100%,100%,100%);stroke-opacity:1;stroke-miterlimit:10;\" d=\"M 315.65625 471.847656 L 315.65625 23.957031 \"/>\n",
       "</g>\n",
       "<path style=\" stroke:none;fill-rule:nonzero;fill:rgb(97.254902%,46.27451%,42.745098%);fill-opacity:1;\" d=\"M 68.699219 315.140625 L 221.984375 315.140625 L 221.984375 243.082031 L 68.699219 243.082031 Z M 68.699219 315.140625 \"/>\n",
       "<path style=\" stroke:none;fill-rule:nonzero;fill:rgb(0%,74.901961%,76.862745%);fill-opacity:1;\" d=\"M 68.699219 451.492188 L 221.984375 451.492188 L 221.984375 315.140625 L 68.699219 315.140625 Z M 68.699219 451.492188 \"/>\n",
       "<path style=\" stroke:none;fill-rule:nonzero;fill:rgb(97.254902%,46.27451%,42.745098%);fill-opacity:1;\" d=\"M 239.011719 224.609375 L 392.296875 224.609375 L 392.296875 44.320312 L 239.011719 44.320312 Z M 239.011719 224.609375 \"/>\n",
       "<path style=\" stroke:none;fill-rule:nonzero;fill:rgb(0%,74.901961%,76.862745%);fill-opacity:1;\" d=\"M 239.011719 451.492188 L 392.296875 451.492188 L 392.296875 224.609375 L 239.011719 224.609375 Z M 239.011719 451.492188 \"/>\n",
       "<g style=\"fill:rgb(30.196078%,30.196078%,30.196078%);fill-opacity:1;\">\n",
       "  <use xlink:href=\"#glyph0-1\" x=\"33.21875\" y=\"454.958008\"/>\n",
       "</g>\n",
       "<g style=\"fill:rgb(30.196078%,30.196078%,30.196078%);fill-opacity:1;\">\n",
       "  <use xlink:href=\"#glyph0-2\" x=\"18.21875\" y=\"358.493164\"/>\n",
       "  <use xlink:href=\"#glyph0-1\" x=\"23.21875\" y=\"358.493164\"/>\n",
       "  <use xlink:href=\"#glyph0-1\" x=\"28.21875\" y=\"358.493164\"/>\n",
       "  <use xlink:href=\"#glyph0-1\" x=\"33.21875\" y=\"358.493164\"/>\n",
       "</g>\n",
       "<g style=\"fill:rgb(30.196078%,30.196078%,30.196078%);fill-opacity:1;\">\n",
       "  <use xlink:href=\"#glyph0-3\" x=\"18.21875\" y=\"262.02832\"/>\n",
       "  <use xlink:href=\"#glyph0-1\" x=\"23.21875\" y=\"262.02832\"/>\n",
       "  <use xlink:href=\"#glyph0-1\" x=\"28.21875\" y=\"262.02832\"/>\n",
       "  <use xlink:href=\"#glyph0-1\" x=\"33.21875\" y=\"262.02832\"/>\n",
       "</g>\n",
       "<g style=\"fill:rgb(30.196078%,30.196078%,30.196078%);fill-opacity:1;\">\n",
       "  <use xlink:href=\"#glyph0-4\" x=\"18.21875\" y=\"165.567383\"/>\n",
       "  <use xlink:href=\"#glyph0-1\" x=\"23.21875\" y=\"165.567383\"/>\n",
       "  <use xlink:href=\"#glyph0-1\" x=\"28.21875\" y=\"165.567383\"/>\n",
       "  <use xlink:href=\"#glyph0-1\" x=\"33.21875\" y=\"165.567383\"/>\n",
       "</g>\n",
       "<g style=\"fill:rgb(30.196078%,30.196078%,30.196078%);fill-opacity:1;\">\n",
       "  <use xlink:href=\"#glyph0-5\" x=\"18.21875\" y=\"69.102539\"/>\n",
       "  <use xlink:href=\"#glyph0-1\" x=\"23.21875\" y=\"69.102539\"/>\n",
       "  <use xlink:href=\"#glyph0-1\" x=\"28.21875\" y=\"69.102539\"/>\n",
       "  <use xlink:href=\"#glyph0-1\" x=\"33.21875\" y=\"69.102539\"/>\n",
       "</g>\n",
       "<path style=\"fill:none;stroke-width:1.066978;stroke-linecap:butt;stroke-linejoin:round;stroke:rgb(20%,20%,20%);stroke-opacity:1;stroke-miterlimit:10;\" d=\"M 40.410156 451.492188 L 43.152344 451.492188 \"/>\n",
       "<path style=\"fill:none;stroke-width:1.066978;stroke-linecap:butt;stroke-linejoin:round;stroke:rgb(20%,20%,20%);stroke-opacity:1;stroke-miterlimit:10;\" d=\"M 40.410156 355.027344 L 43.152344 355.027344 \"/>\n",
       "<path style=\"fill:none;stroke-width:1.066978;stroke-linecap:butt;stroke-linejoin:round;stroke:rgb(20%,20%,20%);stroke-opacity:1;stroke-miterlimit:10;\" d=\"M 40.410156 258.5625 L 43.152344 258.5625 \"/>\n",
       "<path style=\"fill:none;stroke-width:1.066978;stroke-linecap:butt;stroke-linejoin:round;stroke:rgb(20%,20%,20%);stroke-opacity:1;stroke-miterlimit:10;\" d=\"M 40.410156 162.101562 L 43.152344 162.101562 \"/>\n",
       "<path style=\"fill:none;stroke-width:1.066978;stroke-linecap:butt;stroke-linejoin:round;stroke:rgb(20%,20%,20%);stroke-opacity:1;stroke-miterlimit:10;\" d=\"M 40.410156 65.636719 L 43.152344 65.636719 \"/>\n",
       "<path style=\"fill:none;stroke-width:1.066978;stroke-linecap:butt;stroke-linejoin:round;stroke:rgb(20%,20%,20%);stroke-opacity:1;stroke-miterlimit:10;\" d=\"M 145.339844 474.589844 L 145.339844 471.847656 \"/>\n",
       "<path style=\"fill:none;stroke-width:1.066978;stroke-linecap:butt;stroke-linejoin:round;stroke:rgb(20%,20%,20%);stroke-opacity:1;stroke-miterlimit:10;\" d=\"M 315.65625 474.589844 L 315.65625 471.847656 \"/>\n",
       "<g style=\"fill:rgb(30.196078%,30.196078%,30.196078%);fill-opacity:1;\">\n",
       "  <use xlink:href=\"#glyph0-6\" x=\"142.839844\" y=\"483.74707\"/>\n",
       "</g>\n",
       "<g style=\"fill:rgb(30.196078%,30.196078%,30.196078%);fill-opacity:1;\">\n",
       "  <use xlink:href=\"#glyph0-7\" x=\"312.15625\" y=\"483.74707\"/>\n",
       "</g>\n",
       "<g style=\"fill:rgb(0%,0%,0%);fill-opacity:1;\">\n",
       "  <use xlink:href=\"#glyph1-1\" x=\"211.996094\" y=\"496.477539\"/>\n",
       "  <use xlink:href=\"#glyph1-2\" x=\"220.996094\" y=\"496.477539\"/>\n",
       "  <use xlink:href=\"#glyph1-3\" x=\"226.996094\" y=\"496.477539\"/>\n",
       "  <use xlink:href=\"#glyph1-4\" x=\"232.996094\" y=\"496.477539\"/>\n",
       "  <use xlink:href=\"#glyph1-2\" x=\"238.996094\" y=\"496.477539\"/>\n",
       "  <use xlink:href=\"#glyph1-5\" x=\"244.996094\" y=\"496.477539\"/>\n",
       "</g>\n",
       "<g style=\"fill:rgb(0%,0%,0%);fill-opacity:1;\">\n",
       "  <use xlink:href=\"#glyph2-1\" x=\"13.438477\" y=\"261.402344\"/>\n",
       "  <use xlink:href=\"#glyph2-2\" x=\"13.438477\" y=\"255.402344\"/>\n",
       "  <use xlink:href=\"#glyph2-3\" x=\"13.438477\" y=\"249.402344\"/>\n",
       "  <use xlink:href=\"#glyph2-4\" x=\"13.438477\" y=\"243.402344\"/>\n",
       "  <use xlink:href=\"#glyph2-5\" x=\"13.438477\" y=\"237.402344\"/>\n",
       "</g>\n",
       "<path style=\" stroke:none;fill-rule:nonzero;fill:rgb(100%,100%,100%);fill-opacity:1;\" d=\"M 428.800781 278.402344 L 498.519531 278.402344 L 498.519531 217.402344 L 428.800781 217.402344 Z M 428.800781 278.402344 \"/>\n",
       "<g style=\"fill:rgb(0%,0%,0%);fill-opacity:1;\">\n",
       "  <use xlink:href=\"#glyph1-6\" x=\"434.28125\" y=\"231.84082\"/>\n",
       "  <use xlink:href=\"#glyph1-4\" x=\"440.28125\" y=\"231.84082\"/>\n",
       "  <use xlink:href=\"#glyph1-7\" x=\"446.28125\" y=\"231.84082\"/>\n",
       "  <use xlink:href=\"#glyph1-8\" x=\"455.28125\" y=\"231.84082\"/>\n",
       "  <use xlink:href=\"#glyph1-9\" x=\"457.28125\" y=\"231.84082\"/>\n",
       "  <use xlink:href=\"#glyph1-9\" x=\"463.28125\" y=\"231.84082\"/>\n",
       "  <use xlink:href=\"#glyph1-8\" x=\"469.28125\" y=\"231.84082\"/>\n",
       "  <use xlink:href=\"#glyph1-10\" x=\"471.28125\" y=\"231.84082\"/>\n",
       "  <use xlink:href=\"#glyph1-3\" x=\"477.28125\" y=\"231.84082\"/>\n",
       "</g>\n",
       "<path style=\" stroke:none;fill-rule:nonzero;fill:rgb(94.901961%,94.901961%,94.901961%);fill-opacity:1;\" d=\"M 434.28125 255.644531 L 451.5625 255.644531 L 451.5625 238.363281 L 434.28125 238.363281 Z M 434.28125 255.644531 \"/>\n",
       "<path style=\" stroke:none;fill-rule:nonzero;fill:rgb(97.254902%,46.27451%,42.745098%);fill-opacity:1;\" d=\"M 434.992188 254.933594 L 450.855469 254.933594 L 450.855469 239.070312 L 434.992188 239.070312 Z M 434.992188 254.933594 \"/>\n",
       "<path style=\" stroke:none;fill-rule:nonzero;fill:rgb(94.901961%,94.901961%,94.901961%);fill-opacity:1;\" d=\"M 434.28125 272.925781 L 451.5625 272.925781 L 451.5625 255.644531 L 434.28125 255.644531 Z M 434.28125 272.925781 \"/>\n",
       "<path style=\" stroke:none;fill-rule:nonzero;fill:rgb(0%,74.901961%,76.862745%);fill-opacity:1;\" d=\"M 434.992188 272.214844 L 450.855469 272.214844 L 450.855469 256.351562 L 434.992188 256.351562 Z M 434.992188 272.214844 \"/>\n",
       "<g style=\"fill:rgb(0%,0%,0%);fill-opacity:1;\">\n",
       "  <use xlink:href=\"#glyph0-8\" x=\"457.042969\" y=\"250.469727\"/>\n",
       "  <use xlink:href=\"#glyph0-9\" x=\"463.042969\" y=\"250.469727\"/>\n",
       "  <use xlink:href=\"#glyph0-9\" x=\"467.042969\" y=\"250.469727\"/>\n",
       "  <use xlink:href=\"#glyph0-10\" x=\"471.042969\" y=\"250.469727\"/>\n",
       "  <use xlink:href=\"#glyph0-11\" x=\"476.042969\" y=\"250.469727\"/>\n",
       "  <use xlink:href=\"#glyph0-12\" x=\"481.042969\" y=\"250.469727\"/>\n",
       "  <use xlink:href=\"#glyph0-10\" x=\"483.042969\" y=\"250.469727\"/>\n",
       "  <use xlink:href=\"#glyph0-13\" x=\"488.042969\" y=\"250.469727\"/>\n",
       "</g>\n",
       "<g style=\"fill:rgb(0%,0%,0%);fill-opacity:1;\">\n",
       "  <use xlink:href=\"#glyph0-14\" x=\"457.042969\" y=\"267.750977\"/>\n",
       "  <use xlink:href=\"#glyph0-10\" x=\"463.042969\" y=\"267.750977\"/>\n",
       "  <use xlink:href=\"#glyph0-15\" x=\"468.042969\" y=\"267.750977\"/>\n",
       "  <use xlink:href=\"#glyph0-10\" x=\"470.042969\" y=\"267.750977\"/>\n",
       "  <use xlink:href=\"#glyph0-9\" x=\"475.042969\" y=\"267.750977\"/>\n",
       "  <use xlink:href=\"#glyph0-12\" x=\"479.042969\" y=\"267.750977\"/>\n",
       "  <use xlink:href=\"#glyph0-10\" x=\"481.042969\" y=\"267.750977\"/>\n",
       "  <use xlink:href=\"#glyph0-13\" x=\"486.042969\" y=\"267.750977\"/>\n",
       "</g>\n",
       "<g style=\"fill:rgb(0%,0%,0%);fill-opacity:1;\">\n",
       "  <use xlink:href=\"#glyph3-1\" x=\"43.152344\" y=\"15.429688\"/>\n",
       "  <use xlink:href=\"#glyph3-2\" x=\"52.152344\" y=\"15.429688\"/>\n",
       "  <use xlink:href=\"#glyph3-3\" x=\"56.152344\" y=\"15.429688\"/>\n",
       "  <use xlink:href=\"#glyph3-4\" x=\"63.152344\" y=\"15.429688\"/>\n",
       "  <use xlink:href=\"#glyph3-5\" x=\"66.152344\" y=\"15.429688\"/>\n",
       "  <use xlink:href=\"#glyph3-6\" x=\"69.152344\" y=\"15.429688\"/>\n",
       "  <use xlink:href=\"#glyph3-5\" x=\"80.152344\" y=\"15.429688\"/>\n",
       "  <use xlink:href=\"#glyph3-7\" x=\"83.152344\" y=\"15.429688\"/>\n",
       "  <use xlink:href=\"#glyph3-8\" x=\"90.152344\" y=\"15.429688\"/>\n",
       "  <use xlink:href=\"#glyph3-2\" x=\"97.152344\" y=\"15.429688\"/>\n",
       "  <use xlink:href=\"#glyph3-9\" x=\"101.152344\" y=\"15.429688\"/>\n",
       "  <use xlink:href=\"#glyph3-10\" x=\"108.152344\" y=\"15.429688\"/>\n",
       "  <use xlink:href=\"#glyph3-11\" x=\"112.152344\" y=\"15.429688\"/>\n",
       "  <use xlink:href=\"#glyph3-8\" x=\"119.152344\" y=\"15.429688\"/>\n",
       "  <use xlink:href=\"#glyph3-2\" x=\"126.152344\" y=\"15.429688\"/>\n",
       "  <use xlink:href=\"#glyph3-12\" x=\"130.152344\" y=\"15.429688\"/>\n",
       "  <use xlink:href=\"#glyph3-4\" x=\"137.152344\" y=\"15.429688\"/>\n",
       "  <use xlink:href=\"#glyph3-13\" x=\"140.152344\" y=\"15.429688\"/>\n",
       "  <use xlink:href=\"#glyph3-14\" x=\"147.152344\" y=\"15.429688\"/>\n",
       "  <use xlink:href=\"#glyph3-10\" x=\"151.152344\" y=\"15.429688\"/>\n",
       "  <use xlink:href=\"#glyph3-13\" x=\"155.152344\" y=\"15.429688\"/>\n",
       "  <use xlink:href=\"#glyph3-15\" x=\"162.152344\" y=\"15.429688\"/>\n",
       "  <use xlink:href=\"#glyph3-10\" x=\"166.152344\" y=\"15.429688\"/>\n",
       "  <use xlink:href=\"#glyph3-16\" x=\"170.152344\" y=\"15.429688\"/>\n",
       "  <use xlink:href=\"#glyph3-3\" x=\"180.152344\" y=\"15.429688\"/>\n",
       "  <use xlink:href=\"#glyph3-7\" x=\"187.152344\" y=\"15.429688\"/>\n",
       "  <use xlink:href=\"#glyph3-17\" x=\"194.152344\" y=\"15.429688\"/>\n",
       "  <use xlink:href=\"#glyph3-3\" x=\"201.152344\" y=\"15.429688\"/>\n",
       "  <use xlink:href=\"#glyph3-2\" x=\"208.152344\" y=\"15.429688\"/>\n",
       "</g>\n",
       "</g>\n",
       "</svg>\n"
      ],
      "text/plain": [
       "plot without title"
      ]
     },
     "metadata": {
      "application/pdf": {
       "height": 420,
       "width": 420
      },
      "image/jpeg": {
       "height": 420,
       "width": 420
      },
      "image/png": {
       "height": 420,
       "width": 420
      },
      "image/svg+xml": {
       "height": 420,
       "isolated": true,
       "width": 420
      }
     },
     "output_type": "display_data"
    }
   ],
   "source": [
    "gender_admission_plot <- admission_data_updated |>\n",
    "    ggplot(aes(x = gender, fill = admission)) +\n",
    "    geom_bar() +\n",
    "    labs(title = \"Preliminary barplot of Gender\",\n",
    "         x = \"Gender\")\n",
    "\n",
    "gender_admission_plot"
   ]
  },
  {
   "cell_type": "code",
   "execution_count": 21,
   "id": "a366c187-740d-4323-8e00-f55f96dbab67",
   "metadata": {},
   "outputs": [
    {
     "name": "stderr",
     "output_type": "stream",
     "text": [
      "\u001b[1m\u001b[22m`summarise()` has grouped output by 'gender'. You can override using the\n",
      "`.groups` argument.\n"
     ]
    },
    {
     "data": {
      "text/html": [
       "<table class=\"dataframe\">\n",
       "<caption>A grouped_df: 4 × 3</caption>\n",
       "<thead>\n",
       "\t<tr><th scope=col>gender</th><th scope=col>admission</th><th scope=col>count</th></tr>\n",
       "\t<tr><th scope=col>&lt;chr&gt;</th><th scope=col>&lt;chr&gt;</th><th scope=col>&lt;int&gt;</th></tr>\n",
       "</thead>\n",
       "<tbody>\n",
       "\t<tr><td>F</td><td>Accepted</td><td>1494</td></tr>\n",
       "\t<tr><td>F</td><td>Rejected</td><td>2827</td></tr>\n",
       "\t<tr><td>M</td><td>Accepted</td><td>3738</td></tr>\n",
       "\t<tr><td>M</td><td>Rejected</td><td>4704</td></tr>\n",
       "</tbody>\n",
       "</table>\n"
      ],
      "text/latex": [
       "A grouped\\_df: 4 × 3\n",
       "\\begin{tabular}{lll}\n",
       " gender & admission & count\\\\\n",
       " <chr> & <chr> & <int>\\\\\n",
       "\\hline\n",
       "\t F & Accepted & 1494\\\\\n",
       "\t F & Rejected & 2827\\\\\n",
       "\t M & Accepted & 3738\\\\\n",
       "\t M & Rejected & 4704\\\\\n",
       "\\end{tabular}\n"
      ],
      "text/markdown": [
       "\n",
       "A grouped_df: 4 × 3\n",
       "\n",
       "| gender &lt;chr&gt; | admission &lt;chr&gt; | count &lt;int&gt; |\n",
       "|---|---|---|\n",
       "| F | Accepted | 1494 |\n",
       "| F | Rejected | 2827 |\n",
       "| M | Accepted | 3738 |\n",
       "| M | Rejected | 4704 |\n",
       "\n"
      ],
      "text/plain": [
       "  gender admission count\n",
       "1 F      Accepted  1494 \n",
       "2 F      Rejected  2827 \n",
       "3 M      Accepted  3738 \n",
       "4 M      Rejected  4704 "
      ]
     },
     "metadata": {},
     "output_type": "display_data"
    }
   ],
   "source": [
    "# To produce our line plot, first, we'll need to compute the total amount of crime\n",
    "# by neighborhood and year\n",
    "admission_counts <- admission_data_updated |>\n",
    "    group_by(gender,admission) |>\n",
    "    summarise(count = n())\n",
    "head(admission_counts)\n",
    "     "
   ]
  },
  {
   "cell_type": "code",
   "execution_count": 23,
   "id": "98f9c8ff-ee83-4ec6-876e-7bdc3c49aae6",
   "metadata": {},
   "outputs": [
    {
     "data": {
      "text/html": [
       "<table class=\"dataframe\">\n",
       "<caption>A grouped_df: 4 × 4</caption>\n",
       "<thead>\n",
       "\t<tr><th scope=col>gender</th><th scope=col>admission</th><th scope=col>count</th><th scope=col>total</th></tr>\n",
       "\t<tr><th scope=col>&lt;chr&gt;</th><th scope=col>&lt;chr&gt;</th><th scope=col>&lt;int&gt;</th><th scope=col>&lt;int&gt;</th></tr>\n",
       "</thead>\n",
       "<tbody>\n",
       "\t<tr><td>F</td><td>Accepted</td><td>1494</td><td>4321</td></tr>\n",
       "\t<tr><td>F</td><td>Rejected</td><td>2827</td><td>4321</td></tr>\n",
       "\t<tr><td>M</td><td>Accepted</td><td>3738</td><td>8442</td></tr>\n",
       "\t<tr><td>M</td><td>Rejected</td><td>4704</td><td>8442</td></tr>\n",
       "</tbody>\n",
       "</table>\n"
      ],
      "text/latex": [
       "A grouped\\_df: 4 × 4\n",
       "\\begin{tabular}{llll}\n",
       " gender & admission & count & total\\\\\n",
       " <chr> & <chr> & <int> & <int>\\\\\n",
       "\\hline\n",
       "\t F & Accepted & 1494 & 4321\\\\\n",
       "\t F & Rejected & 2827 & 4321\\\\\n",
       "\t M & Accepted & 3738 & 8442\\\\\n",
       "\t M & Rejected & 4704 & 8442\\\\\n",
       "\\end{tabular}\n"
      ],
      "text/markdown": [
       "\n",
       "A grouped_df: 4 × 4\n",
       "\n",
       "| gender &lt;chr&gt; | admission &lt;chr&gt; | count &lt;int&gt; | total &lt;int&gt; |\n",
       "|---|---|---|---|\n",
       "| F | Accepted | 1494 | 4321 |\n",
       "| F | Rejected | 2827 | 4321 |\n",
       "| M | Accepted | 3738 | 8442 |\n",
       "| M | Rejected | 4704 | 8442 |\n",
       "\n"
      ],
      "text/plain": [
       "  gender admission count total\n",
       "1 F      Accepted  1494  4321 \n",
       "2 F      Rejected  2827  4321 \n",
       "3 M      Accepted  3738  8442 \n",
       "4 M      Rejected  4704  8442 "
      ]
     },
     "metadata": {},
     "output_type": "display_data"
    }
   ],
   "source": [
    "admission_counts <- admission_counts |>\n",
    "    mutate(total = sum(count))\n",
    "\n",
    "admission_counts"
   ]
  },
  {
   "cell_type": "code",
   "execution_count": 24,
   "id": "a4692a36-ea5a-43ff-9e63-ca5ccb73820c",
   "metadata": {},
   "outputs": [
    {
     "data": {
      "text/html": [
       "0.34575329784772"
      ],
      "text/latex": [
       "0.34575329784772"
      ],
      "text/markdown": [
       "0.34575329784772"
      ],
      "text/plain": [
       "[1] 0.3457533"
      ]
     },
     "metadata": {},
     "output_type": "display_data"
    }
   ],
   "source": [
    "p_hat_female <- admission_counts$count[1] / admission_counts$total[1]\n",
    "p_hat_female\n"
   ]
  },
  {
   "cell_type": "code",
   "execution_count": 25,
   "id": "3917809d-092e-4ea6-a471-c3f5bac3b2c4",
   "metadata": {},
   "outputs": [
    {
     "data": {
      "text/html": [
       "0.442786069651741"
      ],
      "text/latex": [
       "0.442786069651741"
      ],
      "text/markdown": [
       "0.442786069651741"
      ],
      "text/plain": [
       "[1] 0.4427861"
      ]
     },
     "metadata": {},
     "output_type": "display_data"
    }
   ],
   "source": [
    "p_hat_male <- admission_counts$count[3] / admission_counts$total[3]\n",
    "p_hat_male"
   ]
  },
  {
   "cell_type": "code",
   "execution_count": 27,
   "id": "a9c8ab34-26d3-4f5c-b088-6d6a4fb60d04",
   "metadata": {},
   "outputs": [
    {
     "data": {
      "text/html": [
       "0.409934968267649"
      ],
      "text/latex": [
       "0.409934968267649"
      ],
      "text/markdown": [
       "0.409934968267649"
      ],
      "text/plain": [
       "[1] 0.409935"
      ]
     },
     "metadata": {},
     "output_type": "display_data"
    }
   ],
   "source": [
    "p_hat_pooled <- (p_hat_male*admission_counts$total[3] + p_hat_female*admission_counts$total[1])/(admission_counts$total[3]+admission_counts$total[1])\n",
    "p_hat_pooled"
   ]
  },
  {
   "cell_type": "code",
   "execution_count": 28,
   "id": "4b843054-915c-4ff2-8246-b80668f52f6e",
   "metadata": {},
   "outputs": [
    {
     "data": {
      "text/html": [
       "12763"
      ],
      "text/latex": [
       "12763"
      ],
      "text/markdown": [
       "12763"
      ],
      "text/plain": [
       "[1] 12763"
      ]
     },
     "metadata": {},
     "output_type": "display_data"
    }
   ],
   "source": [
    "n_pooled <- admission_counts$total[1] + admission_counts$total[3]\n",
    "n_pooled"
   ]
  },
  {
   "cell_type": "code",
   "execution_count": 29,
   "id": "0ca906c7-33f4-44bd-b8da-d07af71e4329",
   "metadata": {},
   "outputs": [
    {
     "data": {
      "text/html": [
       "5232"
      ],
      "text/latex": [
       "5232"
      ],
      "text/markdown": [
       "5232"
      ],
      "text/plain": [
       "[1] 5232"
      ]
     },
     "metadata": {},
     "output_type": "display_data"
    }
   ],
   "source": [
    "n_pooled*p_hat_pooled"
   ]
  },
  {
   "cell_type": "code",
   "execution_count": 30,
   "id": "18e38168-511f-445f-856a-da035a75d36e",
   "metadata": {},
   "outputs": [
    {
     "data": {
      "text/html": [
       "7531"
      ],
      "text/latex": [
       "7531"
      ],
      "text/markdown": [
       "7531"
      ],
      "text/plain": [
       "[1] 7531"
      ]
     },
     "metadata": {},
     "output_type": "display_data"
    }
   ],
   "source": [
    "n_pooled*(1-p_hat_pooled)"
   ]
  }
 ],
 "metadata": {
  "kernelspec": {
   "display_name": "R",
   "language": "R",
   "name": "ir"
  },
  "language_info": {
   "codemirror_mode": "r",
   "file_extension": ".r",
   "mimetype": "text/x-r-source",
   "name": "R",
   "pygments_lexer": "r",
   "version": "4.1.3"
  }
 },
 "nbformat": 4,
 "nbformat_minor": 5
}
